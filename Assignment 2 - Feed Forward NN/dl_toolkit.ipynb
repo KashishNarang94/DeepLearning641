{
  "nbformat": 4,
  "nbformat_minor": 0,
  "metadata": {
    "kernelspec": {
      "display_name": "Python 3",
      "language": "python",
      "name": "python3"
    },
    "language_info": {
      "codemirror_mode": {
        "name": "ipython",
        "version": 3
      },
      "file_extension": ".py",
      "mimetype": "text/x-python",
      "name": "python",
      "nbconvert_exporter": "python",
      "pygments_lexer": "ipython3",
      "version": "3.8.5"
    },
    "colab": {
      "name": "dl_toolkit_2",
      "provenance": [],
      "collapsed_sections": []
    }
  },
  "cells": [
    {
      "cell_type": "code",
      "metadata": {
        "colab": {
          "base_uri": "https://localhost:8080/"
        },
        "id": "Us7B8AOV2hbu",
        "outputId": "7410e1fc-d68f-4181-a543-a367e29ecdf4"
      },
      "source": [
        "\n",
        "from google.colab import drive\n",
        "drive.mount('/content/drive')"
      ],
      "execution_count": 1,
      "outputs": [
        {
          "output_type": "stream",
          "text": [
            "Mounted at /content/drive\n"
          ],
          "name": "stdout"
        }
      ]
    },
    {
      "cell_type": "code",
      "metadata": {
        "id": "iHtUI_HNenTz"
      },
      "source": [
        "#Libraries\n",
        "import os\n",
        "import pickle\n",
        "import random\n",
        "import math\n",
        "\n",
        "from numpy import exp\n",
        "from tqdm import tqdm \n",
        "import numpy as np\n",
        "import pandas as pd\n",
        "\n",
        "import matplotlib.pyplot as plt\n",
        "import seaborn as sns\n",
        "from PIL import Image\n",
        "\n",
        "from sklearn.model_selection import train_test_split\n",
        "from sklearn.metrics import accuracy_score\n",
        "from sklearn.metrics import confusion_matrix\n",
        "from sklearn.metrics import roc_auc_score\n"
      ],
      "execution_count": 2,
      "outputs": []
    },
    {
      "cell_type": "code",
      "metadata": {
        "id": "kPQctQ0UenT7"
      },
      "source": [
        "class Data:\n",
        "    def __init__(self):\n",
        "        self.Xval= None\n",
        "        self.yval= None\n",
        "\n",
        "    def preprocessing(self, data):\n",
        "      feature_list = []\n",
        "      for i in range(0, len(data)):\n",
        "          img = data[\"Image\"][i].convert(\"L\")\n",
        "          img = np.resize(img, (28,28))\n",
        "          flat_list = []\n",
        "          for sublist in img:\n",
        "              for item in sublist:\n",
        "                  flat_list.append(item/255)\n",
        "          feature_list.append(flat_list)\n",
        "      temp_data = pd.DataFrame(feature_list)\n",
        "      return temp_data\n",
        "    \n",
        "    def loadData(self):\n",
        "        # train_data = pickle.load(open(\"/content/drive/MyDrive/DL_A2_P1/train_set.pkl\", \"rb\" ))\n",
        "        train_data = pickle.load(open(\"/content/drive/MyDrive/Shared DL Assignment Folder/A2 - Part 1/train_set.pkl\", \"rb\" ))\n",
        "        y_train = np.array(train_data[\"Labels\"])\n",
        "        # val_data = pickle.load(open(\"/content/drive/MyDrive/DL_A2_P1/val_set.pkl\", \"rb\" ))\n",
        "        val_data = pickle.load(open(\"/content/drive/MyDrive/Shared DL Assignment Folder/A2 - Part 1/val_set.pkl\", \"rb\" ))\n",
        "        y_val = np.array(val_data[\"Labels\"])\n",
        "        X_train = self.preprocessing(train_data)\n",
        "        X_val = self.preprocessing(val_data)\n",
        "        self.Xval=X_val\n",
        "        self.yval=y_val\n",
        "        return X_train, X_val, y_train, y_val\n",
        "    \n",
        "    def subSample(self,X_train, y_train):\n",
        "        return train_test_split(X_train, y_train, stratify=y_train, test_size=0.8)\n",
        "    "
      ],
      "execution_count": 3,
      "outputs": []
    },
    {
      "cell_type": "code",
      "metadata": {
        "id": "i2NWH-mzenT7"
      },
      "source": [
        "class MLPClassifier:\n",
        "    def __init__(self, layers, learning_rate = 1e-5, activation_function = 'relu', \n",
        "                 optimizer = 'gradient_descent', weight_init = 'random', \n",
        "                 regularization = 'l2', batch_size = 64, num_epochs=50, dropouts=0.1,lm=0.2 ,**kwargs):\n",
        "        self.layers = layers\n",
        "        self.learning_rate = learning_rate\n",
        "        self.activation_function = activation_function\n",
        "        self.optimizer = optimizer\n",
        "        self.weight_init = weight_init\n",
        "        self.regularization = regularization\n",
        "        self.batch_size = batch_size\n",
        "        self.num_epochs = num_epochs\n",
        "        self.dropouts = dropouts\n",
        "\n",
        "        self.weights = None\n",
        "        self.bias = None\n",
        "        self.Xval= None\n",
        "        self.yval= None\n",
        "\n",
        "        self.xx=None\n",
        "        self.yy=None\n",
        "        self.mt=None\n",
        "        self.epsilon=1e-8\n",
        "        self.grad_nptel = []\n",
        "        self.learning_matrix = []\n",
        "        self.epsilon_matrix = []\n",
        "\n",
        "        self.lm=lm\n",
        "    \n",
        "    def activation(self, x_i):\n",
        "        x_i = np.array(x_i)\n",
        "        if self.activation_function == 'sigmoid':\n",
        "            return 1/(1 + np.exp(-x_i)) \n",
        "        \n",
        "        elif self.activation_function == 'tanh':\n",
        "            return np.tanh(x_i)\n",
        "\n",
        "        elif self.activation_function == 'relu':\n",
        "            t = []\n",
        "            for i in x_i:\n",
        "              t.append(max(0, i))\n",
        "            return t\n",
        "        \n",
        "    def activationGradient(self,x_i):\n",
        "        x_i = np.array(x_i)\n",
        "        if self.activation_function == 'sigmoid':\n",
        "            sigmoid = self.activation(x_i)\n",
        "            return sigmoid*(1-sigmoid)\n",
        "    \n",
        "        elif self.activation_function == 'tanh':\n",
        "            return 1 - self.activation(x_i)**2\n",
        "\n",
        "        elif self.activation_function == 'relu':\n",
        "            if x_i>=0:\n",
        "              return 1\n",
        "            else:\n",
        "              return 0\n",
        "\n",
        "    def softmax(self,x_i):\n",
        "        e = exp(x_i)\n",
        "        return list(e / e.sum())\n",
        "\n",
        "    def l2Loss(self, output_list, y):\n",
        "        error_sum = 0\n",
        "        squared_sum=0\n",
        "        l2=0\n",
        "        for i in range(0, len(output_list)):\n",
        "          error_sum -= math.log(output_list[i][y[i]])\n",
        "        squared_sum+=np.sum(np.square(self.weights[0]))\n",
        "        squared_sum+=np.sum(np.square(self.weights[1]))\n",
        "        l2=(squared_sum*self.lm)/2\n",
        "        l2+=(error_sum/len(output_list))\n",
        "        # print(l2)\n",
        "        return l2\n",
        "        \n",
        "    def l1Loss(self, output_list, y):\n",
        "        error_sum = 0\n",
        "        squared_sum=0\n",
        "        l1=0\n",
        "        for i in range(0, len(output_list)):\n",
        "          error_sum -= math.log(output_list[i][y[i]])\n",
        "        squared_sum+=np.sum(np.absolute(self.weights[0]))\n",
        "        squared_sum+=np.sum(np.absolute(self.weights[1]))\n",
        "        l1=(squared_sum*self.lm)\n",
        "        l1+=(error_sum/len(output_list))\n",
        "        # print(l2)\n",
        "        return l1\n",
        "\n",
        "    def regularize(self, output_list, y):\n",
        "        if self.regularization==\"l2\":\n",
        "          return self.l2Loss(output_list, y)\n",
        "        elif self.regularization==\"l1\":\n",
        "          return self.l1Loss(output_list, y)\n",
        "        else:\n",
        "          return self.error(output_list, y)\n",
        "    \n",
        "    def xavier(self):\n",
        "        self.weights = [[], []]\n",
        "        for i in range(0, self.layers[1]):\n",
        "            self.weights[0].append([])\n",
        "            for j in range(0, self.layers[0]):\n",
        "                self.weights[0][i].append(np.random.rand()/math.sqrt(self.layers[0]))\n",
        "        for i in range(0, self.layers[2]):\n",
        "            self.weights[1].append([])\n",
        "            for j in range(0, self.layers[1]):\n",
        "                self.weights[1][i].append(np.random.rand()/math.sqrt(self.layers[1]))\n",
        "\n",
        "    def he(self):\n",
        "        self.weights = [[], []]\n",
        "        for i in range(0, self.layers[1]):\n",
        "            self.weights[0].append([])\n",
        "            for j in range(0, self.layers[0]):\n",
        "                self.weights[0][i].append(np.random.rand()*math.sqrt(2/self.layers[0]))\n",
        "        for i in range(0, self.layers[2]):\n",
        "            self.weights[1].append([])\n",
        "            for j in range(0, self.layers[1]):\n",
        "                self.weights[1][i].append(np.random.rand()*math.sqrt(2/self.layers[1]))\n",
        "        \n",
        "    def random_initialization(self):\n",
        "        self.weights = [[], []]\n",
        "        for i in range(0, self.layers[1]):\n",
        "            self.weights[0].append([])\n",
        "            for j in range(0, self.layers[0]):\n",
        "                self.weights[0][i].append(round(random.uniform(-1, 1), 4))\n",
        "        for i in range(0, self.layers[2]):\n",
        "            self.weights[1].append([])\n",
        "            for j in range(0, self.layers[1]):\n",
        "                self.weights[1][i].append(round(random.uniform(-1, 1), 4))\n",
        "\n",
        "        self.bias = [[], []]\n",
        "        for i in range(0, 32):\n",
        "            self.bias[0].append(round(random.uniform(-1, 1), 4))\n",
        "        for i in range(0, 10):\n",
        "            self.bias[1].append(round(random.uniform(-1, 1), 4))\n",
        "\n",
        "    def initializeWeights(self):\n",
        "        if self.weight_init=='random':\n",
        "          self.random_initialization()\n",
        "        elif self.weight_init=='xavier':\n",
        "          self.xavier()\n",
        "        elif self.weight_init=='he':\n",
        "          self.he()\n",
        "          \n",
        "    def compute_net_input(self, input_v, index, num_neurons_second):\n",
        "        output_list = [0]*num_neurons_second\n",
        "        for i in range(0, num_neurons_second):\n",
        "          x = np.array(input_v)\n",
        "          w = self.weights[index][i]\n",
        "          z = np.dot(x, w)\n",
        "  #         z += self.bias[index][i] \n",
        "          output_list[i] = z\n",
        "        return output_list\n",
        "\n",
        "  \n",
        "    def compute_net_input_NAG(self, input_v, index, num_neurons_second,wei):\n",
        "      output_list = [0]*num_neurons_second\n",
        "      for i in range(0, num_neurons_second):\n",
        "        #x = np.array(input_v)\n",
        "        #w = wei[index][i]\n",
        "        z = np.dot(np.array(input_v),wei[index][i])\n",
        "  #         z += self.bias[index][i] \n",
        "        output_list[i] = z\n",
        "      return output_list\n",
        "            \n",
        "    def forward(self, X_i):\n",
        "        z1 = self.compute_net_input( X_i, 0, self.layers[1])\n",
        "        o1 = self.activation(z1)\n",
        "        z2 = self.compute_net_input( o1, 1, self.layers[2])\n",
        "        o2 = self.softmax(z2)\n",
        "        return o1, o2\n",
        "\n",
        "    def drop_out_forward(self, X_i):\n",
        "        # size = int(self.dropouts * 32)\n",
        "        # temp_list = numpy.random.randint(low = 0, high = 32, size = size)\n",
        "        temp_list = []\n",
        "        for i in range(0, self.layers[1]):\n",
        "          temp = numpy.random.rand()\n",
        "          if temp < self.dropouts:\n",
        "            temp_list.append(0)\n",
        "          else:\n",
        "            temp_list.append(1)\n",
        "        z1 = self.compute_net_input( X_i, 0, self.layers[1])\n",
        "        o1 = self.activation(z1)\n",
        "        for i in range(0, len(o1)):\n",
        "          o1[i] = o1[i] * temp_list[i]\n",
        "        z2 = self.compute_net_input(o1, 1, self.layers[2])\n",
        "        o2 = self.softmax(z2)\n",
        "        return o1, o2\n",
        "\n",
        "    def drop_out_forward_test(self, X_i):\n",
        "        z1 = self.compute_net_input( X_i, 0, self.layers[1])\n",
        "        o1 = self.activation(z1)\n",
        "        for i in range(0, len(o1)):\n",
        "          o1[i] = o1[i] * self.dropouts\n",
        "        z2 = self.compute_net_input(o1, 1, self.layers[2])\n",
        "        o2 = self.softmax(z2)\n",
        "        return o1, o2\n",
        "\n",
        "    def forwardNAG(self, X_i,wei):\n",
        "        z1 = self.compute_net_input_NAG( X_i, 0, self.layers[1],wei)\n",
        "        o1 = self.activation(z1)\n",
        "        z2 = self.compute_net_input_NAG( o1, 1, self.layers[2],wei)\n",
        "        o2 = self.softmax(z2)\n",
        "        return o1, o2\n",
        "\n",
        "    def gradient(self, di, y2, y1, y0):\n",
        "        gradients = dict()\n",
        "\n",
        "        #One hot encoding of truth value\n",
        "        di_list = [0]*10\n",
        "        di_list[di] = 1\n",
        "\n",
        "        # Derivative of z2 (Using derived formula)\n",
        "        dz2 = np.subtract(np.array(y2), np.array(di_list))\n",
        "\n",
        "        # Drivative for W2\n",
        "        dw2 = np.outer(y1, dz2)\n",
        "        if self.regularization=='l2':\n",
        "          tmp=self.lm*np.array(self.weights[1])\n",
        "          dw2=np.add(dw2,tmp.T)  \n",
        "        elif self.regularization=='l1':\n",
        "          tmp=self.lm*np.sign(np.array(self.weights[1]))\n",
        "          dw2=np.add(dw2,tmp.T)           \n",
        "        gradients['dw2'] = dw2\n",
        "        \n",
        "        # Derivative of y1\n",
        "        dy1 = []\n",
        "        for i in range(0, 32):\n",
        "            t_sum = 0\n",
        "            for j in range(0, 10):\n",
        "                t_sum += self.weights[1][j][i] * dz2[j] \n",
        "            dy1.append(t_sum)\n",
        "\n",
        "        # Derivative of z1\n",
        "        dz1 = []\n",
        "        for i in range(0, len(y1)):\n",
        "            #dz1.append(y1[i] * (1-y1[i]) * dy1[i])\n",
        "            dz1.append(self.activationGradient(y1[i]) * dy1[i])\n",
        "\n",
        "        \n",
        "        # Derivative for W1\n",
        "        dw1 = np.outer(y0, dz1) \n",
        "        if self.regularization=='l2':\n",
        "          tmp=self.lm*np.array(self.weights[0])\n",
        "          dw1=np.add(dw1,tmp.T)  \n",
        "        elif self.regularization=='l1':\n",
        "          tmp=self.lm*np.sign(np.array(self.weights[0]))\n",
        "          dw1=np.add(dw1,tmp.T)              \n",
        "        gradients['dw1'] = dw1\n",
        "\n",
        "        return gradients\n",
        "\n",
        "\n",
        "    def gradientNAG(self, di, y2, y1, y0,wei):\n",
        "        gradients = dict()\n",
        "\n",
        "        #One hot encoding of truth value\n",
        "        di_list = [0]*10\n",
        "        di_list[di] = 1\n",
        "\n",
        "        # Derivative of z2 (Using derived formula)\n",
        "        dz2 = np.subtract(np.array(y2), np.array(di_list))\n",
        "\n",
        "        # Drivative for W2\n",
        "        dw2 = np.outer(y1, dz2)\n",
        "        if self.regularization=='l2':\n",
        "          tmp=self.lm*np.array(self.weights)\n",
        "          dw2=np.add(dw2,tmp.T)       \n",
        "        gradients['dw2'] = dw2\n",
        "        \n",
        "        # Derivative of y1\n",
        "        dy1 = []\n",
        "        for i in range(0, 32):\n",
        "            t_sum = 0\n",
        "            for j in range(0, 10):\n",
        "                t_sum += wei[1][j][i] * dz2[j] \n",
        "            dy1.append(t_sum)\n",
        "\n",
        "        # Derivative of z1\n",
        "        dz1 = []\n",
        "        for i in range(0, len(y1)):\n",
        "            #dz1.append(y1[i] * (1-y1[i]) * dy1[i])\n",
        "            dz1.append(self.activationGradient(y1[i]) * dy1[i])\n",
        "\n",
        "        \n",
        "        # Derivative for W1\n",
        "        dw1 = np.outer(y0, dz1) \n",
        "        if self.regularization=='l2':\n",
        "          tmp=self.lm*np.array(self.weights[0])\n",
        "          dw1=np.add(dw1,tmp.T)  \n",
        "        gradients['dw1'] = dw1\n",
        "\n",
        "        return gradients\n",
        "\n",
        "    def gradientDescent(self,gradients):\n",
        "        #Weight Update of W2\n",
        "        self.weights[1] = np.subtract(self.weights[1], self.learning_rate * gradients['dw2'].T)\n",
        "\n",
        "        #Weight update of W1\n",
        "        self.weights[0] = np.subtract(self.weights[0], self.learning_rate * gradients['dw1'].T)\n",
        "  \n",
        "    def gradientDescentMomentum(self,gradients,j):\n",
        "        gamma=0.9\n",
        "        \n",
        "        #Weight Update of W2\n",
        "        next = np.add((gamma * np.array(self.mt[j][1])), (self.learning_rate * gradients['dw2']))\n",
        "        self.weights[1] = np.subtract(self.weights[1], next.T)\n",
        "        self.mt[j][1] = next\n",
        "        \n",
        "        #Weight update of W1\n",
        "        next = np.add((gamma * np.array(self.mt[j][0])), (self.learning_rate * gradients['dw1']))\n",
        "        self.weights[0] = np.subtract(self.weights[0], next.T)\n",
        "        self.mt[j][0] = next\n",
        "\n",
        "\n",
        "    def NAG(self,k,epoch):\n",
        "        gamma=0.9\n",
        "        wlook=[]\n",
        "        wlook.append([[0]*784]*32)\n",
        "        wlook.append([[0]*32]*10)\n",
        "  \n",
        "        if(k==0 and epoch==0):\n",
        "          self.mt[k][1]=np.array(self.mt[k][1]).T\n",
        "          self.mt[k][0]=np.array(self.mt[k][0]).T\n",
        "   \n",
        "        wlook[1]=np.subtract(self.weights[1],gamma*np.array(self.mt[k][1]))\n",
        "        wlook[0]=np.subtract(self.weights[0],gamma*np.array(self.mt[k][0]))\n",
        "\n",
        "        #Forward Pass \n",
        "        t_o1, t_o2 = self.forwardNAG(self.xx.iloc[k],wlook)\n",
        "\n",
        "        #Backward Pass\n",
        "        gr=self.gradientNAG(self.yy[k], t_o2,t_o1, self.xx.iloc[k],wlook)\n",
        "\n",
        "        next=np.add((gamma*np.array(self.mt[k][1])),(self.learning_rate * gr['dw2']).T)\n",
        "        self.weights[1] = np.subtract(self.weights[1], next)\n",
        "        self.mt[k][1]=next\n",
        "\n",
        "    # #Weight update of W1\n",
        "        next=np.add((gamma*np.array(self.mt[k][0])),(self.learning_rate * gr['dw1']).T)\n",
        "        self.weights[0] = np.subtract(self.weights[0], next)\n",
        "        self.mt[k][0]=next\n",
        "\n",
        "    def adagrad(self, gradients, k):\n",
        "        #Weight update of W2\n",
        "        next = np.add(np.array(self.grad_nptel[k][1]), (np.array(gradients['dw2']) ** 2))\n",
        "        next1 = np.divide(self.learning_matrix[1], np.sqrt(next + 0.00000001))\n",
        "        next2 = np.multiply(next1, np.array(gradients['dw2']))\n",
        "        self.weights[1] = np.subtract(self.weights[1], next2.T)\n",
        "        self.grad_nptel[k][1] = next\n",
        "\n",
        "        # Weight update for W1\n",
        "        next = np.add(np.array(self.grad_nptel[k][0]), (np.array(gradients['dw1']) ** 2))\n",
        "        next1 = np.divide(self.learning_matrix[0], np.sqrt(next + 0.00000001))\n",
        "        next2 = np.multiply(next1, np.array(gradients['dw1']))\n",
        "        self.weights[0] = np.subtract(self.weights[0], next2.T)\n",
        "        self.grad_nptel[k][0] = next\n",
        "\n",
        "    def rmsprop(self, gradients, k):\n",
        "        beta = 0.9\n",
        "\n",
        "        #Weight update of W2\n",
        "        next = np.add((np.array(self.grad_nptel[k][1])* (beta)), ((1-beta) * (np.array(gradients['dw2']) ** 2)))\n",
        "        next1 = np.divide(self.learning_matrix[1], np.sqrt(next + 0.00000001))\n",
        "        next2 = np.multiply(next1, np.array(gradients['dw2']))\n",
        "        self.weights[1] = np.subtract(self.weights[1], next2.T)\n",
        "        self.grad_nptel[k][1] = next\n",
        "\n",
        "        #Weight update of W1\n",
        "        next = np.add((np.array(self.grad_nptel[k][0])* (beta)), ((1-beta) * (np.array(gradients['dw1']) ** 2)))\n",
        "        next1 = np.divide(self.learning_matrix[0], np.sqrt(next + 0.00000001))\n",
        "        next2 = np.multiply(next1, np.array(gradients['dw1']))\n",
        "        self.weights[0] = np.subtract(self.weights[0], next2.T)\n",
        "        self.grad_nptel[k][0] = next\n",
        "\n",
        "    def adam(self, gradients, k):\n",
        "        beta1 = 0.9\n",
        "        beta2 = 0.999\n",
        "\n",
        "        #Weight update of W2\n",
        "        #Momentum\n",
        "        next_momentum = np.add((beta1 * np.array(self.mt[k][1])), ((1 - beta1)* gradients['dw2']))\n",
        "\n",
        "        #RMS\n",
        "        next_rms = np.add((np.array(self.grad_nptel[k][1])* (beta2)), ((1-beta2) * (np.array(gradients['dw2']) ** 2)))\n",
        "        next1_rms = np.divide(self.learning_matrix[1], np.sqrt(next_rms + 0.00000001))\n",
        "        \n",
        "        next2= np.multiply(next1_rms, next_momentum)\n",
        "\n",
        "        self.weights[1] = np.subtract(self.weights[1], next2.T)\n",
        "        self.mt[k][1] = next_momentum\n",
        "        self.grad_nptel[k][1] = next_rms\n",
        "\n",
        "\n",
        "        #Weight update of W1\n",
        "        #Momentum\n",
        "        next_momentum = np.add((beta1 * np.array(self.mt[k][0])), ((1 - beta1)* gradients['dw1']))\n",
        "\n",
        "        #RMS\n",
        "        next_rms = np.add((np.array(self.grad_nptel[k][0])* (beta2)), ((1-beta2) * (np.array(gradients['dw1']) ** 2)))\n",
        "        next1_rms = np.divide(self.learning_matrix[0], np.sqrt(next_rms + 0.00000001))\n",
        "        \n",
        "        next2= np.multiply(next1_rms, next_momentum)\n",
        "\n",
        "        self.weights[0] = np.subtract(self.weights[0], next2.T)\n",
        "        self.mt[k][0] = next_momentum\n",
        "        self.grad_nptel[k][0] = next_rms\n",
        "\n",
        "\n",
        "    def backward(self,di, o2, o1, y0,j,epoch):\n",
        "        \n",
        "        if self.optimizer == 'gradient_descent':\n",
        "            gradients = self.gradient(di, o2, o1, y0)\n",
        "            self.gradientDescent(gradients)\n",
        "        elif self.optimizer == 'gradient_descent_momentum':\n",
        "            gradients = self.gradient(di, o2, o1, y0)\n",
        "            self.gradientDescentMomentum(gradients,j)\n",
        "        elif self.optimizer == 'nag':\n",
        "            self.NAG(j,epoch)\n",
        "        elif self.optimizer == 'adagrad':\n",
        "            gradients = self.gradient(di, o2, o1, y0)\n",
        "            self.adagrad(gradients,j)\n",
        "        elif self.optimizer == 'rmsprop':\n",
        "            gradients = self.gradient(di, o2, o1, y0)\n",
        "            self.rmsprop(gradients,j)\n",
        "        elif self.optimizer == 'adam':\n",
        "            gradients = self.gradient(di, o2, o1, y0)\n",
        "            self.adam(gradients,j)\n",
        "\n",
        "    def fit(self, X, y):\n",
        "      self.xx=X\n",
        "      self.yy=y\n",
        "\n",
        "      self.initializeWeights()\n",
        "      epoch_error_train={}\n",
        "      epoch_error_test={}\n",
        "      if int(len(X)/self.batch_size) == len(X)/self.batch_size:\n",
        "          no_batches = int(len(X)/self.batch_size)\n",
        "      else:\n",
        "          no_batches = int(len(X)/self.batch_size)+1\n",
        "      # print(\"No of Batches:\",no_batches)\n",
        "      \n",
        "      #Storing previous weight update, initializing to 0\n",
        "      #mt[data point][weight no][weight matrix dim1][weight matrix dim2]\n",
        "      self.mt=[[0]*2]*len(X)\n",
        "      for i in range(0,len(X)):\n",
        "        for j in range(0,2):\n",
        "          if j==0:\n",
        "            self.mt[i][j]=([[0]*32]*784)\n",
        "          elif j==1:\n",
        "            self.mt[i][j]=([[0]*10]*32)\n",
        "\n",
        "      #For adagrad/rmsprop\n",
        "      for i in range(len(X)):\n",
        "        self.grad_nptel.append([])\n",
        "        for k in range(0,2):\n",
        "          if k==0:\n",
        "            self.grad_nptel[i].append([[0]*32]*784)\n",
        "          elif k==1:\n",
        "            self.grad_nptel[i].append([[0]*10]*32)\n",
        "\n",
        "      # Learning Rate Matrix for Adagrad/RMSprop\n",
        "      for k in range(0,2):\n",
        "        if k==0:\n",
        "          self.learning_matrix.append([[self.learning_rate]*32]*784)\n",
        "        elif k==1:\n",
        "          self.learning_matrix.append([[self.learning_rate]*10]*32)\n",
        "          \n",
        "      \n",
        "      for epoch in tqdm(range(0, self.num_epochs)):\n",
        "        print(\"Epoch :\", epoch)\n",
        "        o1_list = []\n",
        "        o2_list = []\n",
        "        for i in range(0, no_batches):\n",
        "          # print(\"Batch No \",i)\n",
        "          \n",
        "          if no_batches==i+1:\n",
        "            for j in range(i*self.batch_size,len(X)):\n",
        "              if self.regularization=='dropout':\n",
        "                t_o1, t_o2 = self.drop_out_forward(X.iloc[j])\n",
        "              else:\n",
        "                t_o1, t_o2 = self.forward(X.iloc[j])\n",
        "              o1_list.append(t_o1)\n",
        "              o2_list.append(t_o2)\n",
        "              # print(i,j)\n",
        "\n",
        "            for j in range(i*self.batch_size,len(X)):\n",
        "              self.backward(y[j], o2_list[j], o1_list[j], X.iloc[j],j,epoch)\n",
        "              # print(i,j)\n",
        "          \n",
        "          else:\n",
        "            for j in range(i*self.batch_size,(i*self.batch_size+self.batch_size)):\n",
        "              if self.regularization=='dropout':\n",
        "                t_o1, t_o2 = self.drop_out_forward(X.iloc[j])\n",
        "              else:\n",
        "                t_o1, t_o2 = self.forward(X.iloc[j])\n",
        "              o1_list.append(t_o1)\n",
        "              o2_list.append(t_o2)\n",
        "              # print(i,j)\n",
        "\n",
        "            for j in range(i*self.batch_size,(i*self.batch_size+self.batch_size)):\n",
        "              self.backward(y[j], o2_list[j], o1_list[j], X.iloc[j],j,epoch)\n",
        "              # print(i,j)\n",
        "\n",
        "        epoch_error_train[epoch]=self.regularize(o2_list, y)\n",
        "        print(\" Training Error\",epoch_error_train[epoch])\n",
        "        print(\"Training Accuracy\", self.accuracy(o2_list, y))\n",
        "        if self.regularization=='dropout':\n",
        "          epoch_error_test[epoch]=self.drop_out_error_score(data.Xval,data.yval)\n",
        "        else:\n",
        "          epoch_error_test[epoch]=self.error_score(data.Xval,data.yval)\n",
        "        print(\"Testing Error\",epoch_error_test[epoch])\n",
        "        if self.regularization=='dropout':\n",
        "          print(\"Testing Accuracy \",self.drop_out_score_test(data.Xval,data.yval))\n",
        "        else:\n",
        "          print(\"Testing Accuracy \",self.score(data.Xval,data.yval))\n",
        "\n",
        "\n",
        "     \n",
        "      print(\"Activation Function : \",self.activation_function,\"   and Optimizer : \",self.optimizer)\n",
        "      self.plot(epoch_error_train,\"Training Loss \")\n",
        "      self.plot(epoch_error_test,\"Testing Loss\")\n",
        "\n",
        "\n",
        "    def predict(self, X):\n",
        "        t_o2_list = []\n",
        "        for i in range(0, len(X)):\n",
        "            t_o1, t_o2 = self.forward(X.iloc[i])\n",
        "            t_o2_list.append(t_o2)\n",
        "        \n",
        "        y_pred = []\n",
        "        for i in range(0, len(t_o2_list)):\n",
        "          y_pred.append(t_o2_list[i].index(max(t_o2_list[i])))\n",
        "        return y_pred\n",
        "    \n",
        "    def predict_proba(self, X):\n",
        "        t_o2_list = []\n",
        "        for i in range(0, len(X)):\n",
        "            t_o1, t_o2 = self.forward(X.iloc[i])\n",
        "            t_o2_list.append(t_o2)\n",
        "        \n",
        "        y_pred_proba = []\n",
        "        for i in range(0, len(t_o2_list)):\n",
        "          y_pred_proba.append(max(t_o2_list[i]))\n",
        "        return y_pred_proba\n",
        "\n",
        "    def error(self, output_list, y):\n",
        "        error_sum = 0\n",
        "        for i in range(0, len(output_list)):\n",
        "          error_sum -= math.log(output_list[i][y[i]])\n",
        "        return error_sum/len(output_list)\n",
        "\n",
        "    def accuracy(self, output_list, y):\n",
        "        y_pred = []\n",
        "        for i in range(0, len(output_list)):\n",
        "          y_pred.append(output_list[i].index(max(output_list[i])))\n",
        "        # print(y_pred)\n",
        "        return accuracy_score(y, y_pred)\n",
        "\n",
        "    def score(self,X_val,y_val):\n",
        "      output_list = []\n",
        "      for i in range(0, len(X_val)):\n",
        "        t_o1, t_o2 = self.forward(X_val.iloc[i])\n",
        "        output_list.append(t_o2)\n",
        "      y_pred = []\n",
        "      for i in range(0, len(output_list)):\n",
        "        y_pred.append(output_list[i].index(max(output_list[i])))\n",
        "      # print(y_pred)\n",
        "      return accuracy_score(y_val, y_pred)\n",
        "\n",
        "    def drop_out_score_test(self,X_val,y_val):\n",
        "      output_list = []\n",
        "      for i in range(0, len(X_val)):\n",
        "        t_o1, t_o2 = self.drop_out_forward_test(X_val.iloc[i])\n",
        "        output_list.append(t_o2)\n",
        "      y_pred = []\n",
        "      for i in range(0, len(output_list)):\n",
        "        y_pred.append(output_list[i].index(max(output_list[i])))\n",
        "      # print(y_pred)\n",
        "      return accuracy_score(y_val, y_pred)\n",
        "\n",
        "    \n",
        "\n",
        "    def error_score(self,X_val,y_val):\n",
        "      t_o2_list = []\n",
        "      for i in range(0, len(X_val)):\n",
        "        t_o1, t_o2 = self.forward(X_val.iloc[i])\n",
        "        t_o2_list.append(t_o2)\n",
        "      return self.regularize(t_o2_list,y_val)\n",
        "\n",
        "    def drop_out_error_score(self,X_val,y_val):\n",
        "      t_o2_list = []\n",
        "      for i in range(0, len(X_val)):\n",
        "        t_o1, t_o2 = self.drop_out_forward_test(X_val.iloc[i])\n",
        "        t_o2_list.append(t_o2)\n",
        "      return self.regularize(t_o2_list,y_val)\n",
        "\n",
        "    def plot(self,dic,typ):\n",
        "      lists = sorted(dic.items()) \n",
        "      x, y = zip(*lists)\n",
        "      plt.plot(x, y,Label=typ)\n",
        "      plt.xlabel('Epoch') \n",
        "      plt.ylabel('Loss') \n",
        "      plt.grid(True) \n",
        "      # plt.title(typ+'Loss vs Epoch ') \n",
        "      # plt.show()\n",
        "      plt.legend()\n",
        "\n",
        "    def get_params(self):\n",
        "      return self.weights\n",
        "\n",
        "    def saveModel(self,type_,filename):\n",
        "      if type_ == \"weights\":\n",
        "        with open(\"/content/drive/MyDrive/Shared DL Assignment Folder/A2- Part 2/\"+filename+\".pkl\", \"wb\") as f:\n",
        "        # with open(\"/content/drive/MyDrive/DL_A2_P1/\"+filename+\".pkl\", \"wb\") as f:\n",
        "            pickle.dump(self.weights, f)\n",
        "      if type_ == \"bias\":\n",
        "        with open(\"/content/drive/MyDrive/Shared DL Assignment Folder/A2- Part 2/\"+filename+\".pkl\", \"wb\") as f:\n",
        "        # with open(\"/content/drive/MyDrive/DL_A2_P1/\"+filename+\".pkl\", \"wb\") as f:\n",
        "            pickle.dump(self.weights, f)\n",
        "    \n"
      ],
      "execution_count": 4,
      "outputs": []
    },
    {
      "cell_type": "code",
      "metadata": {
        "id": "tZ4HSOF7juRJ"
      },
      "source": [
        "#ROC Curve\r\n",
        "from sklearn.preprocessing import label_binarize\r\n",
        "from sklearn.metrics import roc_curve, auc\r\n",
        "\r\n",
        "def ROC(y_true,y_pred,n_class):\r\n",
        "  y_true = label_binarize(y_true, classes=np.arange(10))\r\n",
        "  y_pred = label_binarize(y_pred, classes=np.arange(10))\r\n",
        "  fpr = dict()\r\n",
        "  tpr = dict()\r\n",
        "  roc_auc = dict()\r\n",
        "  fig, ax = plt.subplots(figsize=(10,10))\r\n",
        "  ax.plot([0, 1], [0, 1], 'k--')\r\n",
        "  ax.set_xlim([0.0, 1.0])\r\n",
        "  ax.set_ylim([0.0, 1.05])\r\n",
        "  ax.set_xlabel('False Positive Rate')\r\n",
        "  ax.set_ylabel('True Positive Rate')\r\n",
        "  ax.set_title('Receiver operating characteristic')\r\n",
        "  for i in range(n_class):\r\n",
        "      fpr[i], tpr[i], _ = roc_curve(y_true[:, i], y_pred[:, i])\r\n",
        "      roc_auc[i] = auc(fpr[i], tpr[i])\r\n",
        "\r\n",
        "  for i in range(n_class):\r\n",
        "      ax.plot(fpr[i], tpr[i],linestyle='--', label='ROC curve (area = %0.2f) for label %i' % (roc_auc[i], i))\r\n",
        "\r\n",
        "  plt.legend(loc='best',prop={'size': 8})"
      ],
      "execution_count": 5,
      "outputs": []
    },
    {
      "cell_type": "markdown",
      "metadata": {
        "id": "NX1pXMETenT7"
      },
      "source": [
        "<h2> Main functionality<h2>"
      ]
    },
    {
      "cell_type": "code",
      "metadata": {
        "colab": {
          "base_uri": "https://localhost:8080/"
        },
        "id": "vLK5avpwenT8",
        "outputId": "1fa81f6a-215d-4e43-88bf-90659b39b41b"
      },
      "source": [
        "#Load Dataset\n",
        "data = Data()\n",
        "X_train, X_val, y_train, y_val = data.loadData()\n",
        "print(X_train.shape, y_train.shape, X_val.shape, y_val.shape)"
      ],
      "execution_count": 6,
      "outputs": [
        {
          "output_type": "stream",
          "text": [
            "(10000, 784) (10000,) (2000, 784) (2000,)\n"
          ],
          "name": "stdout"
        }
      ]
    },
    {
      "cell_type": "code",
      "metadata": {
        "id": "boUlSacNenT8"
      },
      "source": [
        "#Define Parameters\n",
        "layers = [784,32,10]\n",
        "learning_rate = 0.0000001\n",
        "activation_function = 'relu'\n",
        "optimizer = 'adam'\n",
        "weight_init = 'he'\n",
        "regularization = 'l2'\n",
        "batch_size = 64\n",
        "num_epochs = 100\n",
        "dropouts = 0.1\n",
        "lm=0.0001"
      ],
      "execution_count": 10,
      "outputs": []
    },
    {
      "cell_type": "code",
      "metadata": {
        "id": "e2MMiMukenT8"
      },
      "source": [
        "#MLP Object\n",
        "mlp = MLPClassifier(layers, learning_rate, activation_function, \n",
        "                 optimizer, weight_init, \n",
        "                 regularization, batch_size, num_epochs, dropouts,lm)"
      ],
      "execution_count": 11,
      "outputs": []
    },
    {
      "cell_type": "code",
      "metadata": {
        "id": "alP5ewBSSuA5",
        "colab": {
          "base_uri": "https://localhost:8080/",
          "height": 1000
        },
        "outputId": "b7c824ec-1047-4899-f72d-1a09550e5954"
      },
      "source": [
        "#Training\r\n",
        "mlp.fit(X_train,y_train)"
      ],
      "execution_count": 12,
      "outputs": [
        {
          "output_type": "stream",
          "text": [
            "\n",
            "  0%|          | 0/100 [00:00<?, ?it/s]\u001b[A"
          ],
          "name": "stderr"
        },
        {
          "output_type": "stream",
          "text": [
            "Epoch : 0\n",
            " Training Error 1.9134941809753547\n",
            "Training Accuracy 0.5235\n",
            "Testing Error 1.6289331860924194\n"
          ],
          "name": "stdout"
        },
        {
          "output_type": "stream",
          "text": [
            "\n",
            "  1%|          | 1/100 [01:06<1:50:23, 66.90s/it]\u001b[A"
          ],
          "name": "stderr"
        },
        {
          "output_type": "stream",
          "text": [
            "Testing Accuracy  0.6825\n",
            "Epoch : 1\n",
            " Training Error 1.3474242722852259\n",
            "Training Accuracy 0.7735\n",
            "Testing Error 1.2982992553316142\n"
          ],
          "name": "stdout"
        },
        {
          "output_type": "stream",
          "text": [
            "\n",
            "  2%|▏         | 2/100 [01:48<1:36:43, 59.21s/it]\u001b[A"
          ],
          "name": "stderr"
        },
        {
          "output_type": "stream",
          "text": [
            "Testing Accuracy  0.7585\n",
            "Epoch : 2\n",
            " Training Error 1.0789857737808837\n",
            "Training Accuracy 0.808\n",
            "Testing Error 1.1140329958823885\n"
          ],
          "name": "stdout"
        },
        {
          "output_type": "stream",
          "text": [
            "\n",
            "  3%|▎         | 3/100 [02:29<1:26:53, 53.75s/it]\u001b[A"
          ],
          "name": "stderr"
        },
        {
          "output_type": "stream",
          "text": [
            "Testing Accuracy  0.789\n",
            "Epoch : 3\n",
            " Training Error 0.9232269778131247\n",
            "Training Accuracy 0.823\n",
            "Testing Error 0.9969695048240736\n"
          ],
          "name": "stdout"
        },
        {
          "output_type": "stream",
          "text": [
            "\n",
            "  4%|▍         | 4/100 [03:10<1:20:07, 50.08s/it]\u001b[A"
          ],
          "name": "stderr"
        },
        {
          "output_type": "stream",
          "text": [
            "Testing Accuracy  0.7985\n",
            "Epoch : 4\n",
            " Training Error 0.8217367643225834\n",
            "Training Accuracy 0.8334\n",
            "Testing Error 0.9145930097324674\n"
          ],
          "name": "stdout"
        },
        {
          "output_type": "stream",
          "text": [
            "\n",
            "  5%|▌         | 5/100 [03:52<1:15:10, 47.48s/it]\u001b[A"
          ],
          "name": "stderr"
        },
        {
          "output_type": "stream",
          "text": [
            "Testing Accuracy  0.8075\n",
            "Epoch : 5\n",
            " Training Error 0.7495810404919001\n",
            "Training Accuracy 0.8414\n",
            "Testing Error 0.8527553279328159\n"
          ],
          "name": "stdout"
        },
        {
          "output_type": "stream",
          "text": [
            "\n",
            "  6%|▌         | 6/100 [04:33<1:11:31, 45.65s/it]\u001b[A"
          ],
          "name": "stderr"
        },
        {
          "output_type": "stream",
          "text": [
            "Testing Accuracy  0.8125\n",
            "Epoch : 6\n",
            " Training Error 0.6951192292818971\n",
            "Training Accuracy 0.8484\n",
            "Testing Error 0.8044616410213168\n"
          ],
          "name": "stdout"
        },
        {
          "output_type": "stream",
          "text": [
            "\n",
            "  7%|▋         | 7/100 [05:14<1:08:42, 44.32s/it]\u001b[A"
          ],
          "name": "stderr"
        },
        {
          "output_type": "stream",
          "text": [
            "Testing Accuracy  0.817\n",
            "Epoch : 7\n",
            " Training Error 0.6523630920474318\n",
            "Training Accuracy 0.8529\n",
            "Testing Error 0.7654068042206275\n"
          ],
          "name": "stdout"
        },
        {
          "output_type": "stream",
          "text": [
            "\n",
            "  8%|▊         | 8/100 [05:56<1:06:34, 43.42s/it]\u001b[A"
          ],
          "name": "stderr"
        },
        {
          "output_type": "stream",
          "text": [
            "Testing Accuracy  0.8215\n",
            "Epoch : 8\n",
            " Training Error 0.6177289553623692\n",
            "Training Accuracy 0.8571\n",
            "Testing Error 0.7330498665402586\n"
          ],
          "name": "stdout"
        },
        {
          "output_type": "stream",
          "text": [
            "\n",
            "  9%|▉         | 9/100 [06:37<1:04:56, 42.82s/it]\u001b[A"
          ],
          "name": "stderr"
        },
        {
          "output_type": "stream",
          "text": [
            "Testing Accuracy  0.8235\n",
            "Epoch : 9\n",
            " Training Error 0.5890046687359997\n",
            "Training Accuracy 0.8617\n",
            "Testing Error 0.7058508972534516\n"
          ],
          "name": "stdout"
        },
        {
          "output_type": "stream",
          "text": [
            "\n",
            " 10%|█         | 10/100 [07:18<1:03:34, 42.39s/it]\u001b[A"
          ],
          "name": "stderr"
        },
        {
          "output_type": "stream",
          "text": [
            "Testing Accuracy  0.8285\n",
            "Epoch : 10\n",
            " Training Error 0.5647586505509072\n",
            "Training Accuracy 0.866\n",
            "Testing Error 0.682631701002539\n"
          ],
          "name": "stdout"
        },
        {
          "output_type": "stream",
          "text": [
            "\n",
            " 11%|█         | 11/100 [08:00<1:02:23, 42.06s/it]\u001b[A"
          ],
          "name": "stderr"
        },
        {
          "output_type": "stream",
          "text": [
            "Testing Accuracy  0.8325\n",
            "Epoch : 11\n",
            " Training Error 0.5440130927025247\n",
            "Training Accuracy 0.8685\n",
            "Testing Error 0.6625682910888095\n"
          ],
          "name": "stdout"
        },
        {
          "output_type": "stream",
          "text": [
            "\n",
            " 12%|█▏        | 12/100 [08:41<1:01:22, 41.84s/it]\u001b[A"
          ],
          "name": "stderr"
        },
        {
          "output_type": "stream",
          "text": [
            "Testing Accuracy  0.8355\n",
            "Epoch : 12\n",
            " Training Error 0.5260334273240058\n",
            "Training Accuracy 0.8715\n",
            "Testing Error 0.6449656046772607\n"
          ],
          "name": "stdout"
        },
        {
          "output_type": "stream",
          "text": [
            "\n",
            " 13%|█▎        | 13/100 [09:22<1:00:26, 41.68s/it]\u001b[A"
          ],
          "name": "stderr"
        },
        {
          "output_type": "stream",
          "text": [
            "Testing Accuracy  0.84\n",
            "Epoch : 13\n",
            " Training Error 0.5102861225229378\n",
            "Training Accuracy 0.8738\n",
            "Testing Error 0.6294004444404001\n"
          ],
          "name": "stdout"
        },
        {
          "output_type": "stream",
          "text": [
            "\n",
            " 14%|█▍        | 14/100 [10:04<59:37, 41.60s/it]  \u001b[A"
          ],
          "name": "stderr"
        },
        {
          "output_type": "stream",
          "text": [
            "Testing Accuracy  0.843\n",
            "Epoch : 14\n",
            " Training Error 0.4963810614301383\n",
            "Training Accuracy 0.8772\n",
            "Testing Error 0.6156299603704829\n"
          ],
          "name": "stdout"
        },
        {
          "output_type": "stream",
          "text": [
            "\n",
            " 15%|█▌        | 15/100 [10:45<58:51, 41.54s/it]\u001b[A"
          ],
          "name": "stderr"
        },
        {
          "output_type": "stream",
          "text": [
            "Testing Accuracy  0.844\n",
            "Epoch : 15\n",
            " Training Error 0.48399609319962755\n",
            "Training Accuracy 0.8785\n",
            "Testing Error 0.6033563973493947\n"
          ],
          "name": "stdout"
        },
        {
          "output_type": "stream",
          "text": [
            "\n",
            " 16%|█▌        | 16/100 [11:26<58:05, 41.49s/it]\u001b[A"
          ],
          "name": "stderr"
        },
        {
          "output_type": "stream",
          "text": [
            "Testing Accuracy  0.844\n",
            "Epoch : 16\n",
            " Training Error 0.4728997134533648\n",
            "Training Accuracy 0.882\n",
            "Testing Error 0.5923767737870925\n"
          ],
          "name": "stdout"
        },
        {
          "output_type": "stream",
          "text": [
            "\n",
            " 17%|█▋        | 17/100 [12:08<57:16, 41.41s/it]\u001b[A"
          ],
          "name": "stderr"
        },
        {
          "output_type": "stream",
          "text": [
            "Testing Accuracy  0.846\n",
            "Epoch : 17\n",
            " Training Error 0.46290138256818747\n",
            "Training Accuracy 0.8841\n",
            "Testing Error 0.5824937153971849\n"
          ],
          "name": "stdout"
        },
        {
          "output_type": "stream",
          "text": [
            "\n",
            " 18%|█▊        | 18/100 [12:49<56:39, 41.45s/it]\u001b[A"
          ],
          "name": "stderr"
        },
        {
          "output_type": "stream",
          "text": [
            "Testing Accuracy  0.8475\n",
            "Epoch : 18\n",
            " Training Error 0.45383582709922043\n",
            "Training Accuracy 0.8865\n",
            "Testing Error 0.5735486195157665\n"
          ],
          "name": "stdout"
        },
        {
          "output_type": "stream",
          "text": [
            "\n",
            " 19%|█▉        | 19/100 [13:30<55:52, 41.39s/it]\u001b[A"
          ],
          "name": "stderr"
        },
        {
          "output_type": "stream",
          "text": [
            "Testing Accuracy  0.8495\n",
            "Epoch : 19\n",
            " Training Error 0.445565947718666\n",
            "Training Accuracy 0.8883\n",
            "Testing Error 0.5654395404757461\n"
          ],
          "name": "stdout"
        },
        {
          "output_type": "stream",
          "text": [
            "\n",
            " 20%|██        | 20/100 [14:12<55:13, 41.42s/it]\u001b[A"
          ],
          "name": "stderr"
        },
        {
          "output_type": "stream",
          "text": [
            "Testing Accuracy  0.8495\n",
            "Epoch : 20\n",
            " Training Error 0.4379858770955825\n",
            "Training Accuracy 0.8892\n",
            "Testing Error 0.5580695146317252\n"
          ],
          "name": "stdout"
        },
        {
          "output_type": "stream",
          "text": [
            "\n",
            " 21%|██        | 21/100 [14:54<54:37, 41.49s/it]\u001b[A"
          ],
          "name": "stderr"
        },
        {
          "output_type": "stream",
          "text": [
            "Testing Accuracy  0.849\n",
            "Epoch : 21\n",
            " Training Error 0.43101936530543494\n",
            "Training Accuracy 0.8899\n",
            "Testing Error 0.551307908807338\n"
          ],
          "name": "stdout"
        },
        {
          "output_type": "stream",
          "text": [
            "\n",
            " 22%|██▏       | 22/100 [15:36<54:05, 41.61s/it]\u001b[A"
          ],
          "name": "stderr"
        },
        {
          "output_type": "stream",
          "text": [
            "Testing Accuracy  0.8495\n",
            "Epoch : 22\n",
            " Training Error 0.424584827196822\n",
            "Training Accuracy 0.8913\n",
            "Testing Error 0.5450738998790609\n"
          ],
          "name": "stdout"
        },
        {
          "output_type": "stream",
          "text": [
            "\n",
            " 23%|██▎       | 23/100 [16:17<53:26, 41.65s/it]\u001b[A"
          ],
          "name": "stderr"
        },
        {
          "output_type": "stream",
          "text": [
            "Testing Accuracy  0.8515\n",
            "Epoch : 23\n",
            " Training Error 0.418619838854835\n",
            "Training Accuracy 0.8927\n",
            "Testing Error 0.5393184564161945\n"
          ],
          "name": "stdout"
        },
        {
          "output_type": "stream",
          "text": [
            "\n",
            " 24%|██▍       | 24/100 [16:59<52:50, 41.72s/it]\u001b[A"
          ],
          "name": "stderr"
        },
        {
          "output_type": "stream",
          "text": [
            "Testing Accuracy  0.852\n",
            "Epoch : 24\n",
            " Training Error 0.4130690835516101\n",
            "Training Accuracy 0.8938\n",
            "Testing Error 0.5340054207554915\n"
          ],
          "name": "stdout"
        },
        {
          "output_type": "stream",
          "text": [
            "\n",
            " 25%|██▌       | 25/100 [17:41<52:06, 41.68s/it]\u001b[A"
          ],
          "name": "stderr"
        },
        {
          "output_type": "stream",
          "text": [
            "Testing Accuracy  0.8535\n",
            "Epoch : 25\n",
            " Training Error 0.40789863943388177\n",
            "Training Accuracy 0.8948\n",
            "Testing Error 0.5290811710582823\n"
          ],
          "name": "stdout"
        },
        {
          "output_type": "stream",
          "text": [
            "\n",
            " 26%|██▌       | 26/100 [18:22<51:23, 41.68s/it]\u001b[A"
          ],
          "name": "stderr"
        },
        {
          "output_type": "stream",
          "text": [
            "Testing Accuracy  0.854\n",
            "Epoch : 26\n",
            " Training Error 0.4030684637654489\n",
            "Training Accuracy 0.8969\n",
            "Testing Error 0.5245157873193627\n"
          ],
          "name": "stdout"
        },
        {
          "output_type": "stream",
          "text": [
            "\n",
            " 27%|██▋       | 27/100 [19:04<50:36, 41.60s/it]\u001b[A"
          ],
          "name": "stderr"
        },
        {
          "output_type": "stream",
          "text": [
            "Testing Accuracy  0.8545\n",
            "Epoch : 27\n",
            " Training Error 0.39853878829759887\n",
            "Training Accuracy 0.898\n",
            "Testing Error 0.5202616232173973\n"
          ],
          "name": "stdout"
        },
        {
          "output_type": "stream",
          "text": [
            "\n",
            " 28%|██▊       | 28/100 [19:45<49:53, 41.58s/it]\u001b[A"
          ],
          "name": "stderr"
        },
        {
          "output_type": "stream",
          "text": [
            "Testing Accuracy  0.856\n",
            "Epoch : 28\n",
            " Training Error 0.3942777380195335\n",
            "Training Accuracy 0.8988\n",
            "Testing Error 0.5162902845274441\n"
          ],
          "name": "stdout"
        },
        {
          "output_type": "stream",
          "text": [
            "\n",
            " 29%|██▉       | 29/100 [20:27<49:18, 41.67s/it]\u001b[A"
          ],
          "name": "stderr"
        },
        {
          "output_type": "stream",
          "text": [
            "Testing Accuracy  0.856\n",
            "Epoch : 29\n",
            " Training Error 0.3902644796281549\n",
            "Training Accuracy 0.8994\n",
            "Testing Error 0.5125693704953449\n"
          ],
          "name": "stdout"
        },
        {
          "output_type": "stream",
          "text": [
            "\n",
            " 30%|███       | 30/100 [21:09<48:34, 41.63s/it]\u001b[A"
          ],
          "name": "stderr"
        },
        {
          "output_type": "stream",
          "text": [
            "Testing Accuracy  0.8565\n",
            "Epoch : 30\n",
            " Training Error 0.3864733478195337\n",
            "Training Accuracy 0.9004\n",
            "Testing Error 0.5090756402285735\n"
          ],
          "name": "stdout"
        },
        {
          "output_type": "stream",
          "text": [
            "\n",
            " 31%|███       | 31/100 [21:50<47:53, 41.64s/it]\u001b[A"
          ],
          "name": "stderr"
        },
        {
          "output_type": "stream",
          "text": [
            "Testing Accuracy  0.857\n",
            "Epoch : 31\n",
            " Training Error 0.38288596236026634\n",
            "Training Accuracy 0.9005\n",
            "Testing Error 0.5057989527184699\n"
          ],
          "name": "stdout"
        },
        {
          "output_type": "stream",
          "text": [
            "\n",
            " 32%|███▏      | 32/100 [22:32<47:05, 41.55s/it]\u001b[A"
          ],
          "name": "stderr"
        },
        {
          "output_type": "stream",
          "text": [
            "Testing Accuracy  0.8575\n",
            "Epoch : 32\n",
            " Training Error 0.3794884963368987\n",
            "Training Accuracy 0.9011\n",
            "Testing Error 0.5027115051548242\n"
          ],
          "name": "stdout"
        },
        {
          "output_type": "stream",
          "text": [
            "\n",
            " 33%|███▎      | 33/100 [23:13<46:23, 41.55s/it]\u001b[A"
          ],
          "name": "stderr"
        },
        {
          "output_type": "stream",
          "text": [
            "Testing Accuracy  0.8615\n",
            "Epoch : 33\n",
            " Training Error 0.37626124547827344\n",
            "Training Accuracy 0.9017\n",
            "Testing Error 0.49979323378762974\n"
          ],
          "name": "stdout"
        },
        {
          "output_type": "stream",
          "text": [
            "\n",
            " 34%|███▍      | 34/100 [23:55<45:43, 41.57s/it]\u001b[A"
          ],
          "name": "stderr"
        },
        {
          "output_type": "stream",
          "text": [
            "Testing Accuracy  0.8615\n",
            "Epoch : 34\n",
            " Training Error 0.3731894931533995\n",
            "Training Accuracy 0.9025\n",
            "Testing Error 0.4970257280616331\n"
          ],
          "name": "stdout"
        },
        {
          "output_type": "stream",
          "text": [
            "\n",
            " 35%|███▌      | 35/100 [24:36<44:58, 41.52s/it]\u001b[A"
          ],
          "name": "stderr"
        },
        {
          "output_type": "stream",
          "text": [
            "Testing Accuracy  0.862\n",
            "Epoch : 35\n",
            " Training Error 0.37026064797057623\n",
            "Training Accuracy 0.9034\n",
            "Testing Error 0.4943992618238616\n"
          ],
          "name": "stdout"
        },
        {
          "output_type": "stream",
          "text": [
            "\n",
            " 36%|███▌      | 36/100 [25:18<44:18, 41.54s/it]\u001b[A"
          ],
          "name": "stderr"
        },
        {
          "output_type": "stream",
          "text": [
            "Testing Accuracy  0.8635\n",
            "Epoch : 36\n",
            " Training Error 0.367461959451114\n",
            "Training Accuracy 0.9038\n",
            "Testing Error 0.4919167352692689\n"
          ],
          "name": "stdout"
        },
        {
          "output_type": "stream",
          "text": [
            "\n",
            " 37%|███▋      | 37/100 [25:59<43:34, 41.51s/it]\u001b[A"
          ],
          "name": "stderr"
        },
        {
          "output_type": "stream",
          "text": [
            "Testing Accuracy  0.863\n",
            "Epoch : 37\n",
            " Training Error 0.3647873148317187\n",
            "Training Accuracy 0.9045\n",
            "Testing Error 0.489561366572127\n"
          ],
          "name": "stdout"
        },
        {
          "output_type": "stream",
          "text": [
            "\n",
            " 38%|███▊      | 38/100 [26:41<42:48, 41.42s/it]\u001b[A"
          ],
          "name": "stderr"
        },
        {
          "output_type": "stream",
          "text": [
            "Testing Accuracy  0.863\n",
            "Epoch : 38\n",
            " Training Error 0.3622285656408434\n",
            "Training Accuracy 0.9054\n",
            "Testing Error 0.48733138361513495\n"
          ],
          "name": "stdout"
        },
        {
          "output_type": "stream",
          "text": [
            "\n",
            " 39%|███▉      | 39/100 [27:22<42:05, 41.40s/it]\u001b[A"
          ],
          "name": "stderr"
        },
        {
          "output_type": "stream",
          "text": [
            "Testing Accuracy  0.863\n",
            "Epoch : 39\n",
            " Training Error 0.35977621502960766\n",
            "Training Accuracy 0.9064\n",
            "Testing Error 0.4852124923863962\n"
          ],
          "name": "stdout"
        },
        {
          "output_type": "stream",
          "text": [
            "\n",
            " 40%|████      | 40/100 [28:03<41:23, 41.38s/it]\u001b[A"
          ],
          "name": "stderr"
        },
        {
          "output_type": "stream",
          "text": [
            "Testing Accuracy  0.863\n",
            "Epoch : 40\n",
            " Training Error 0.35742518332833706\n",
            "Training Accuracy 0.9073\n",
            "Testing Error 0.48319463198283347\n"
          ],
          "name": "stdout"
        },
        {
          "output_type": "stream",
          "text": [
            "\n",
            " 41%|████      | 41/100 [28:45<40:40, 41.37s/it]\u001b[A"
          ],
          "name": "stderr"
        },
        {
          "output_type": "stream",
          "text": [
            "Testing Accuracy  0.864\n",
            "Epoch : 41\n",
            " Training Error 0.35516597777044945\n",
            "Training Accuracy 0.9078\n",
            "Testing Error 0.48127071690562906\n"
          ],
          "name": "stdout"
        },
        {
          "output_type": "stream",
          "text": [
            "\n",
            " 42%|████▏     | 42/100 [29:26<39:57, 41.34s/it]\u001b[A"
          ],
          "name": "stderr"
        },
        {
          "output_type": "stream",
          "text": [
            "Testing Accuracy  0.864\n",
            "Epoch : 42\n",
            " Training Error 0.3529939692935991\n",
            "Training Accuracy 0.908\n",
            "Testing Error 0.4794419258484423\n"
          ],
          "name": "stdout"
        },
        {
          "output_type": "stream",
          "text": [
            "\n",
            " 43%|████▎     | 43/100 [30:07<39:19, 41.39s/it]\u001b[A"
          ],
          "name": "stderr"
        },
        {
          "output_type": "stream",
          "text": [
            "Testing Accuracy  0.8655\n",
            "Epoch : 43\n",
            " Training Error 0.350903841557633\n",
            "Training Accuracy 0.9082\n",
            "Testing Error 0.47769474069472995\n"
          ],
          "name": "stdout"
        },
        {
          "output_type": "stream",
          "text": [
            "\n",
            " 44%|████▍     | 44/100 [30:49<38:41, 41.45s/it]\u001b[A"
          ],
          "name": "stderr"
        },
        {
          "output_type": "stream",
          "text": [
            "Testing Accuracy  0.8655\n",
            "Epoch : 44\n",
            " Training Error 0.34888805563000497\n",
            "Training Accuracy 0.9083\n",
            "Testing Error 0.4760208217348153\n"
          ],
          "name": "stdout"
        },
        {
          "output_type": "stream",
          "text": [
            "\n",
            " 45%|████▌     | 45/100 [31:30<37:59, 41.45s/it]\u001b[A"
          ],
          "name": "stderr"
        },
        {
          "output_type": "stream",
          "text": [
            "Testing Accuracy  0.865\n",
            "Epoch : 45\n",
            " Training Error 0.34694453977497397\n",
            "Training Accuracy 0.9085\n",
            "Testing Error 0.4744129962734442\n"
          ],
          "name": "stdout"
        },
        {
          "output_type": "stream",
          "text": [
            "\n",
            " 46%|████▌     | 46/100 [32:12<37:17, 41.44s/it]\u001b[A"
          ],
          "name": "stderr"
        },
        {
          "output_type": "stream",
          "text": [
            "Testing Accuracy  0.865\n",
            "Epoch : 46\n",
            " Training Error 0.34506767705776203\n",
            "Training Accuracy 0.9088\n",
            "Testing Error 0.47286985522171493\n"
          ],
          "name": "stdout"
        },
        {
          "output_type": "stream",
          "text": [
            "\n",
            " 47%|████▋     | 47/100 [32:53<36:32, 41.37s/it]\u001b[A"
          ],
          "name": "stderr"
        },
        {
          "output_type": "stream",
          "text": [
            "Testing Accuracy  0.865\n",
            "Epoch : 47\n",
            " Training Error 0.3432519363181731\n",
            "Training Accuracy 0.9092\n",
            "Testing Error 0.4713894165804753\n"
          ],
          "name": "stdout"
        },
        {
          "output_type": "stream",
          "text": [
            "\n",
            " 48%|████▊     | 48/100 [33:34<35:47, 41.31s/it]\u001b[A"
          ],
          "name": "stderr"
        },
        {
          "output_type": "stream",
          "text": [
            "Testing Accuracy  0.8645\n",
            "Epoch : 48\n",
            " Training Error 0.3414934725742974\n",
            "Training Accuracy 0.9099\n",
            "Testing Error 0.46996343175293487\n"
          ],
          "name": "stdout"
        },
        {
          "output_type": "stream",
          "text": [
            "\n",
            " 49%|████▉     | 49/100 [34:15<35:03, 41.25s/it]\u001b[A"
          ],
          "name": "stderr"
        },
        {
          "output_type": "stream",
          "text": [
            "Testing Accuracy  0.865\n",
            "Epoch : 49\n",
            " Training Error 0.3397896561097535\n",
            "Training Accuracy 0.9103\n",
            "Testing Error 0.46858607502543953\n"
          ],
          "name": "stdout"
        },
        {
          "output_type": "stream",
          "text": [
            "\n",
            " 50%|█████     | 50/100 [34:57<34:25, 41.31s/it]\u001b[A"
          ],
          "name": "stderr"
        },
        {
          "output_type": "stream",
          "text": [
            "Testing Accuracy  0.865\n",
            "Epoch : 50\n",
            " Training Error 0.338136040764068\n",
            "Training Accuracy 0.9109\n",
            "Testing Error 0.4672572383747568\n"
          ],
          "name": "stdout"
        },
        {
          "output_type": "stream",
          "text": [
            "\n",
            " 51%|█████     | 51/100 [35:38<33:46, 41.37s/it]\u001b[A"
          ],
          "name": "stderr"
        },
        {
          "output_type": "stream",
          "text": [
            "Testing Accuracy  0.8665\n",
            "Epoch : 51\n",
            " Training Error 0.33653236129798814\n",
            "Training Accuracy 0.9111\n",
            "Testing Error 0.46597190133080135\n"
          ],
          "name": "stdout"
        },
        {
          "output_type": "stream",
          "text": [
            "\n",
            " 52%|█████▏    | 52/100 [36:19<33:03, 41.32s/it]\u001b[A"
          ],
          "name": "stderr"
        },
        {
          "output_type": "stream",
          "text": [
            "Testing Accuracy  0.866\n",
            "Epoch : 52\n",
            " Training Error 0.33497530881653015\n",
            "Training Accuracy 0.9115\n",
            "Testing Error 0.4647280410847872\n"
          ],
          "name": "stdout"
        },
        {
          "output_type": "stream",
          "text": [
            "\n",
            " 53%|█████▎    | 53/100 [37:02<32:34, 41.58s/it]\u001b[A"
          ],
          "name": "stderr"
        },
        {
          "output_type": "stream",
          "text": [
            "Testing Accuracy  0.8675\n",
            "Epoch : 53\n",
            " Training Error 0.3334621190517336\n",
            "Training Accuracy 0.912\n",
            "Testing Error 0.46352632784738557\n"
          ],
          "name": "stdout"
        },
        {
          "output_type": "stream",
          "text": [
            "\n",
            " 54%|█████▍    | 54/100 [37:44<31:57, 41.68s/it]\u001b[A"
          ],
          "name": "stderr"
        },
        {
          "output_type": "stream",
          "text": [
            "Testing Accuracy  0.8675\n",
            "Epoch : 54\n",
            " Training Error 0.3319886923008021\n",
            "Training Accuracy 0.9122\n",
            "Testing Error 0.46236957351870867\n"
          ],
          "name": "stdout"
        },
        {
          "output_type": "stream",
          "text": [
            "\n",
            " 55%|█████▌    | 55/100 [38:25<31:14, 41.65s/it]\u001b[A"
          ],
          "name": "stderr"
        },
        {
          "output_type": "stream",
          "text": [
            "Testing Accuracy  0.867\n",
            "Epoch : 55\n",
            " Training Error 0.3305552910007291\n",
            "Training Accuracy 0.9127\n",
            "Testing Error 0.46125303710375987\n"
          ],
          "name": "stdout"
        },
        {
          "output_type": "stream",
          "text": [
            "\n",
            " 56%|█████▌    | 56/100 [39:07<30:37, 41.77s/it]\u001b[A"
          ],
          "name": "stderr"
        },
        {
          "output_type": "stream",
          "text": [
            "Testing Accuracy  0.8675\n",
            "Epoch : 56\n",
            " Training Error 0.3291612110605922\n",
            "Training Accuracy 0.9132\n",
            "Testing Error 0.46016812196227047\n"
          ],
          "name": "stdout"
        },
        {
          "output_type": "stream",
          "text": [
            "\n",
            " 57%|█████▋    | 57/100 [39:50<30:04, 41.96s/it]\u001b[A"
          ],
          "name": "stderr"
        },
        {
          "output_type": "stream",
          "text": [
            "Testing Accuracy  0.8675\n",
            "Epoch : 57\n",
            " Training Error 0.32780421896464745\n",
            "Training Accuracy 0.9137\n",
            "Testing Error 0.45911649705332375\n"
          ],
          "name": "stdout"
        },
        {
          "output_type": "stream",
          "text": [
            "\n",
            " 58%|█████▊    | 58/100 [40:32<29:33, 42.22s/it]\u001b[A"
          ],
          "name": "stderr"
        },
        {
          "output_type": "stream",
          "text": [
            "Testing Accuracy  0.868\n",
            "Epoch : 58\n",
            " Training Error 0.3264814968615157\n",
            "Training Accuracy 0.9145\n",
            "Testing Error 0.4580987321479879\n"
          ],
          "name": "stdout"
        },
        {
          "output_type": "stream",
          "text": [
            "\n",
            " 59%|█████▉    | 59/100 [41:16<29:09, 42.66s/it]\u001b[A"
          ],
          "name": "stderr"
        },
        {
          "output_type": "stream",
          "text": [
            "Testing Accuracy  0.8685\n",
            "Epoch : 59\n",
            " Training Error 0.3251929741673863\n",
            "Training Accuracy 0.9152\n",
            "Testing Error 0.45710831997258167\n"
          ],
          "name": "stdout"
        },
        {
          "output_type": "stream",
          "text": [
            "\n",
            " 60%|██████    | 60/100 [41:58<28:23, 42.58s/it]\u001b[A"
          ],
          "name": "stderr"
        },
        {
          "output_type": "stream",
          "text": [
            "Testing Accuracy  0.868\n",
            "Epoch : 60\n",
            " Training Error 0.3239347866898724\n",
            "Training Accuracy 0.9153\n",
            "Testing Error 0.45614454817272826\n"
          ],
          "name": "stdout"
        },
        {
          "output_type": "stream",
          "text": [
            "\n",
            " 61%|██████    | 61/100 [42:41<27:38, 42.52s/it]\u001b[A"
          ],
          "name": "stderr"
        },
        {
          "output_type": "stream",
          "text": [
            "Testing Accuracy  0.8685\n",
            "Epoch : 61\n",
            " Training Error 0.3227077491425141\n",
            "Training Accuracy 0.9156\n",
            "Testing Error 0.45521129503559343\n"
          ],
          "name": "stdout"
        },
        {
          "output_type": "stream",
          "text": [
            "\n",
            " 62%|██████▏   | 62/100 [43:23<26:55, 42.51s/it]\u001b[A"
          ],
          "name": "stderr"
        },
        {
          "output_type": "stream",
          "text": [
            "Testing Accuracy  0.8685\n",
            "Epoch : 62\n",
            " Training Error 0.3215111415871653\n",
            "Training Accuracy 0.9156\n",
            "Testing Error 0.4543061719855818\n"
          ],
          "name": "stdout"
        },
        {
          "output_type": "stream",
          "text": [
            "\n",
            " 63%|██████▎   | 63/100 [44:06<26:13, 42.54s/it]\u001b[A"
          ],
          "name": "stderr"
        },
        {
          "output_type": "stream",
          "text": [
            "Testing Accuracy  0.8685\n",
            "Epoch : 63\n",
            " Training Error 0.3203434131867333\n",
            "Training Accuracy 0.9162\n",
            "Testing Error 0.4534284332534007\n"
          ],
          "name": "stdout"
        },
        {
          "output_type": "stream",
          "text": [
            "\n",
            " 64%|██████▍   | 64/100 [44:48<25:25, 42.38s/it]\u001b[A"
          ],
          "name": "stderr"
        },
        {
          "output_type": "stream",
          "text": [
            "Testing Accuracy  0.8685\n",
            "Epoch : 64\n",
            " Training Error 0.319203076557201\n",
            "Training Accuracy 0.9164\n",
            "Testing Error 0.4525743032050591\n"
          ],
          "name": "stdout"
        },
        {
          "output_type": "stream",
          "text": [
            "\n",
            " 65%|██████▌   | 65/100 [45:30<24:41, 42.33s/it]\u001b[A"
          ],
          "name": "stderr"
        },
        {
          "output_type": "stream",
          "text": [
            "Testing Accuracy  0.869\n",
            "Epoch : 65\n",
            " Training Error 0.3180891635822926\n",
            "Training Accuracy 0.917\n",
            "Testing Error 0.45174434290476956\n"
          ],
          "name": "stdout"
        },
        {
          "output_type": "stream",
          "text": [
            "\n",
            " 66%|██████▌   | 66/100 [46:13<24:01, 42.38s/it]\u001b[A"
          ],
          "name": "stderr"
        },
        {
          "output_type": "stream",
          "text": [
            "Testing Accuracy  0.87\n",
            "Epoch : 66\n",
            " Training Error 0.3170010259453448\n",
            "Training Accuracy 0.9171\n",
            "Testing Error 0.45093830926030326\n"
          ],
          "name": "stdout"
        },
        {
          "output_type": "stream",
          "text": [
            "\n",
            " 67%|██████▋   | 67/100 [46:55<23:14, 42.27s/it]\u001b[A"
          ],
          "name": "stderr"
        },
        {
          "output_type": "stream",
          "text": [
            "Testing Accuracy  0.871\n",
            "Epoch : 67\n",
            " Training Error 0.31593537331576\n",
            "Training Accuracy 0.9171\n",
            "Testing Error 0.4501544603175904\n"
          ],
          "name": "stdout"
        },
        {
          "output_type": "stream",
          "text": [
            "\n",
            " 68%|██████▊   | 68/100 [47:37<22:33, 42.30s/it]\u001b[A"
          ],
          "name": "stderr"
        },
        {
          "output_type": "stream",
          "text": [
            "Testing Accuracy  0.8705\n",
            "Epoch : 68\n",
            " Training Error 0.31489294241775684\n",
            "Training Accuracy 0.9176\n",
            "Testing Error 0.4493900619717193\n"
          ],
          "name": "stdout"
        },
        {
          "output_type": "stream",
          "text": [
            "\n",
            " 69%|██████▉   | 69/100 [48:19<21:46, 42.13s/it]\u001b[A"
          ],
          "name": "stderr"
        },
        {
          "output_type": "stream",
          "text": [
            "Testing Accuracy  0.8705\n",
            "Epoch : 69\n",
            " Training Error 0.3138721677146254\n",
            "Training Accuracy 0.9178\n",
            "Testing Error 0.44864492133518885\n"
          ],
          "name": "stdout"
        },
        {
          "output_type": "stream",
          "text": [
            "\n",
            " 70%|███████   | 70/100 [49:01<21:03, 42.10s/it]\u001b[A"
          ],
          "name": "stderr"
        },
        {
          "output_type": "stream",
          "text": [
            "Testing Accuracy  0.87\n",
            "Epoch : 70\n",
            " Training Error 0.3128714080107772\n",
            "Training Accuracy 0.9181\n",
            "Testing Error 0.44791897652935253\n"
          ],
          "name": "stdout"
        },
        {
          "output_type": "stream",
          "text": [
            "\n",
            " 71%|███████   | 71/100 [49:42<20:16, 41.96s/it]\u001b[A"
          ],
          "name": "stderr"
        },
        {
          "output_type": "stream",
          "text": [
            "Testing Accuracy  0.8695\n",
            "Epoch : 71\n",
            " Training Error 0.31189007167284716\n",
            "Training Accuracy 0.9183\n",
            "Testing Error 0.44721430151527175\n"
          ],
          "name": "stdout"
        },
        {
          "output_type": "stream",
          "text": [
            "\n",
            " 72%|███████▏  | 72/100 [50:24<19:30, 41.82s/it]\u001b[A"
          ],
          "name": "stderr"
        },
        {
          "output_type": "stream",
          "text": [
            "Testing Accuracy  0.871\n",
            "Epoch : 72\n",
            " Training Error 0.3109283429354183\n",
            "Training Accuracy 0.9189\n",
            "Testing Error 0.4465298771192076\n"
          ],
          "name": "stdout"
        },
        {
          "output_type": "stream",
          "text": [
            "\n",
            " 73%|███████▎  | 73/100 [51:06<18:48, 41.80s/it]\u001b[A"
          ],
          "name": "stderr"
        },
        {
          "output_type": "stream",
          "text": [
            "Testing Accuracy  0.872\n",
            "Epoch : 73\n",
            " Training Error 0.30998757209332245\n",
            "Training Accuracy 0.919\n",
            "Testing Error 0.44586311016322133\n"
          ],
          "name": "stdout"
        },
        {
          "output_type": "stream",
          "text": [
            "\n",
            " 74%|███████▍  | 74/100 [51:47<18:04, 41.72s/it]\u001b[A"
          ],
          "name": "stderr"
        },
        {
          "output_type": "stream",
          "text": [
            "Testing Accuracy  0.872\n",
            "Epoch : 74\n",
            " Training Error 0.3090659518304332\n",
            "Training Accuracy 0.9194\n",
            "Testing Error 0.4452158826245649\n"
          ],
          "name": "stdout"
        },
        {
          "output_type": "stream",
          "text": [
            "\n",
            " 75%|███████▌  | 75/100 [52:29<17:21, 41.65s/it]\u001b[A"
          ],
          "name": "stderr"
        },
        {
          "output_type": "stream",
          "text": [
            "Testing Accuracy  0.872\n",
            "Epoch : 75\n",
            " Training Error 0.30816098171296397\n",
            "Training Accuracy 0.9194\n",
            "Testing Error 0.4445868929995572\n"
          ],
          "name": "stdout"
        },
        {
          "output_type": "stream",
          "text": [
            "\n",
            " 76%|███████▌  | 76/100 [53:10<16:37, 41.55s/it]\u001b[A"
          ],
          "name": "stderr"
        },
        {
          "output_type": "stream",
          "text": [
            "Testing Accuracy  0.872\n",
            "Epoch : 76\n",
            " Training Error 0.3072725830510071\n",
            "Training Accuracy 0.9195\n",
            "Testing Error 0.4439736381263708\n"
          ],
          "name": "stdout"
        },
        {
          "output_type": "stream",
          "text": [
            "\n",
            " 77%|███████▋  | 77/100 [53:51<15:54, 41.50s/it]\u001b[A"
          ],
          "name": "stderr"
        },
        {
          "output_type": "stream",
          "text": [
            "Testing Accuracy  0.872\n",
            "Epoch : 77\n",
            " Training Error 0.3064001881699219\n",
            "Training Accuracy 0.9196\n",
            "Testing Error 0.443377565274407\n"
          ],
          "name": "stdout"
        },
        {
          "output_type": "stream",
          "text": [
            "\n",
            " 78%|███████▊  | 78/100 [54:33<15:12, 41.48s/it]\u001b[A"
          ],
          "name": "stderr"
        },
        {
          "output_type": "stream",
          "text": [
            "Testing Accuracy  0.8725\n",
            "Epoch : 78\n",
            " Training Error 0.30554188466750415\n",
            "Training Accuracy 0.92\n",
            "Testing Error 0.4427991324926088\n"
          ],
          "name": "stdout"
        },
        {
          "output_type": "stream",
          "text": [
            "\n",
            " 79%|███████▉  | 79/100 [55:14<14:31, 41.48s/it]\u001b[A"
          ],
          "name": "stderr"
        },
        {
          "output_type": "stream",
          "text": [
            "Testing Accuracy  0.873\n",
            "Epoch : 79\n",
            " Training Error 0.30469832984687123\n",
            "Training Accuracy 0.9202\n",
            "Testing Error 0.44223678703485586\n"
          ],
          "name": "stdout"
        },
        {
          "output_type": "stream",
          "text": [
            "\n",
            " 80%|████████  | 80/100 [55:56<13:49, 41.46s/it]\u001b[A"
          ],
          "name": "stderr"
        },
        {
          "output_type": "stream",
          "text": [
            "Testing Accuracy  0.873\n",
            "Epoch : 80\n",
            " Training Error 0.30386980158087235\n",
            "Training Accuracy 0.9206\n",
            "Testing Error 0.44168813100075915\n"
          ],
          "name": "stdout"
        },
        {
          "output_type": "stream",
          "text": [
            "\n",
            " 81%|████████  | 81/100 [56:37<13:09, 41.54s/it]\u001b[A"
          ],
          "name": "stderr"
        },
        {
          "output_type": "stream",
          "text": [
            "Testing Accuracy  0.8735\n",
            "Epoch : 81\n",
            " Training Error 0.3030564010929536\n",
            "Training Accuracy 0.9209\n",
            "Testing Error 0.4411497002381099\n"
          ],
          "name": "stdout"
        },
        {
          "output_type": "stream",
          "text": [
            "\n",
            " 82%|████████▏ | 82/100 [57:19<12:28, 41.58s/it]\u001b[A"
          ],
          "name": "stderr"
        },
        {
          "output_type": "stream",
          "text": [
            "Testing Accuracy  0.873\n",
            "Epoch : 82\n",
            " Training Error 0.3022571551200018\n",
            "Training Accuracy 0.921\n",
            "Testing Error 0.44062259993011005\n"
          ],
          "name": "stdout"
        },
        {
          "output_type": "stream",
          "text": [
            "\n",
            " 83%|████████▎ | 83/100 [58:01<11:47, 41.59s/it]\u001b[A"
          ],
          "name": "stderr"
        },
        {
          "output_type": "stream",
          "text": [
            "Testing Accuracy  0.8735\n",
            "Epoch : 83\n",
            " Training Error 0.30147122848095426\n",
            "Training Accuracy 0.9211\n",
            "Testing Error 0.44010673790687893\n"
          ],
          "name": "stdout"
        },
        {
          "output_type": "stream",
          "text": [
            "\n",
            " 84%|████████▍ | 84/100 [58:43<11:06, 41.67s/it]\u001b[A"
          ],
          "name": "stderr"
        },
        {
          "output_type": "stream",
          "text": [
            "Testing Accuracy  0.8735\n",
            "Epoch : 84\n",
            " Training Error 0.3006989873216514\n",
            "Training Accuracy 0.921\n",
            "Testing Error 0.43960061557948943\n"
          ],
          "name": "stdout"
        },
        {
          "output_type": "stream",
          "text": [
            "\n",
            " 85%|████████▌ | 85/100 [59:24<10:24, 41.63s/it]\u001b[A"
          ],
          "name": "stderr"
        },
        {
          "output_type": "stream",
          "text": [
            "Testing Accuracy  0.8735\n",
            "Epoch : 85\n",
            " Training Error 0.2999385951672009\n",
            "Training Accuracy 0.9209\n",
            "Testing Error 0.4391066917142064\n"
          ],
          "name": "stdout"
        },
        {
          "output_type": "stream",
          "text": [
            "\n",
            " 86%|████████▌ | 86/100 [1:00:06<09:41, 41.56s/it]\u001b[A"
          ],
          "name": "stderr"
        },
        {
          "output_type": "stream",
          "text": [
            "Testing Accuracy  0.875\n",
            "Epoch : 86\n",
            " Training Error 0.2991906482293658\n",
            "Training Accuracy 0.9212\n",
            "Testing Error 0.4386260418594917\n"
          ],
          "name": "stdout"
        },
        {
          "output_type": "stream",
          "text": [
            "\n",
            " 87%|████████▋ | 87/100 [1:00:47<09:01, 41.66s/it]\u001b[A"
          ],
          "name": "stderr"
        },
        {
          "output_type": "stream",
          "text": [
            "Testing Accuracy  0.8755\n",
            "Epoch : 87\n",
            " Training Error 0.2984547892116905\n",
            "Training Accuracy 0.9213\n",
            "Testing Error 0.4381542654683112\n"
          ],
          "name": "stdout"
        },
        {
          "output_type": "stream",
          "text": [
            "\n",
            " 88%|████████▊ | 88/100 [1:01:29<08:21, 41.76s/it]\u001b[A"
          ],
          "name": "stderr"
        },
        {
          "output_type": "stream",
          "text": [
            "Testing Accuracy  0.8745\n",
            "Epoch : 88\n",
            " Training Error 0.29772931157294424\n",
            "Training Accuracy 0.9215\n",
            "Testing Error 0.43769148040209344\n"
          ],
          "name": "stdout"
        },
        {
          "output_type": "stream",
          "text": [
            "\n",
            " 89%|████████▉ | 89/100 [1:02:11<07:38, 41.70s/it]\u001b[A"
          ],
          "name": "stderr"
        },
        {
          "output_type": "stream",
          "text": [
            "Testing Accuracy  0.8755\n",
            "Epoch : 89\n",
            " Training Error 0.2970141931506186\n",
            "Training Accuracy 0.9219\n",
            "Testing Error 0.4372390744602135\n"
          ],
          "name": "stdout"
        },
        {
          "output_type": "stream",
          "text": [
            "\n",
            " 90%|█████████ | 90/100 [1:02:53<06:57, 41.78s/it]\u001b[A"
          ],
          "name": "stderr"
        },
        {
          "output_type": "stream",
          "text": [
            "Testing Accuracy  0.8745\n",
            "Epoch : 90\n",
            " Training Error 0.29631075445171795\n",
            "Training Accuracy 0.9221\n",
            "Testing Error 0.43679816877131306\n"
          ],
          "name": "stdout"
        },
        {
          "output_type": "stream",
          "text": [
            "\n",
            " 91%|█████████ | 91/100 [1:03:34<06:15, 41.69s/it]\u001b[A"
          ],
          "name": "stderr"
        },
        {
          "output_type": "stream",
          "text": [
            "Testing Accuracy  0.876\n",
            "Epoch : 91\n",
            " Training Error 0.29562049819387204\n",
            "Training Accuracy 0.9224\n",
            "Testing Error 0.4363660353358544\n"
          ],
          "name": "stdout"
        },
        {
          "output_type": "stream",
          "text": [
            "\n",
            " 92%|█████████▏| 92/100 [1:04:16<05:33, 41.63s/it]\u001b[A"
          ],
          "name": "stderr"
        },
        {
          "output_type": "stream",
          "text": [
            "Testing Accuracy  0.8765\n",
            "Epoch : 92\n",
            " Training Error 0.29494054432617306\n",
            "Training Accuracy 0.9227\n",
            "Testing Error 0.43594346388117916\n"
          ],
          "name": "stdout"
        },
        {
          "output_type": "stream",
          "text": [
            "\n",
            " 93%|█████████▎| 93/100 [1:04:57<04:51, 41.57s/it]\u001b[A"
          ],
          "name": "stderr"
        },
        {
          "output_type": "stream",
          "text": [
            "Testing Accuracy  0.8765\n",
            "Epoch : 93\n",
            " Training Error 0.2942706465373893\n",
            "Training Accuracy 0.9228\n",
            "Testing Error 0.43553229916104275\n"
          ],
          "name": "stdout"
        },
        {
          "output_type": "stream",
          "text": [
            "\n",
            " 94%|█████████▍| 94/100 [1:05:39<04:09, 41.59s/it]\u001b[A"
          ],
          "name": "stderr"
        },
        {
          "output_type": "stream",
          "text": [
            "Testing Accuracy  0.8765\n",
            "Epoch : 94\n",
            " Training Error 0.2936109727051452\n",
            "Training Accuracy 0.923\n",
            "Testing Error 0.4351290123232244\n"
          ],
          "name": "stdout"
        },
        {
          "output_type": "stream",
          "text": [
            "\n",
            " 95%|█████████▌| 95/100 [1:06:21<03:27, 41.57s/it]\u001b[A"
          ],
          "name": "stderr"
        },
        {
          "output_type": "stream",
          "text": [
            "Testing Accuracy  0.8765\n",
            "Epoch : 95\n",
            " Training Error 0.29296128742614813\n",
            "Training Accuracy 0.9232\n",
            "Testing Error 0.4347349918117924\n"
          ],
          "name": "stdout"
        },
        {
          "output_type": "stream",
          "text": [
            "\n",
            " 96%|█████████▌| 96/100 [1:07:03<02:46, 41.71s/it]\u001b[A"
          ],
          "name": "stderr"
        },
        {
          "output_type": "stream",
          "text": [
            "Testing Accuracy  0.8765\n",
            "Epoch : 96\n",
            " Training Error 0.29232110671221656\n",
            "Training Accuracy 0.9233\n",
            "Testing Error 0.4343493077827375\n"
          ],
          "name": "stdout"
        },
        {
          "output_type": "stream",
          "text": [
            "\n",
            " 97%|█████████▋| 97/100 [1:07:44<02:05, 41.74s/it]\u001b[A"
          ],
          "name": "stderr"
        },
        {
          "output_type": "stream",
          "text": [
            "Testing Accuracy  0.8765\n",
            "Epoch : 97\n",
            " Training Error 0.2916910593297029\n",
            "Training Accuracy 0.9235\n",
            "Testing Error 0.4339729394971429\n"
          ],
          "name": "stdout"
        },
        {
          "output_type": "stream",
          "text": [
            "\n",
            " 98%|█████████▊| 98/100 [1:08:26<01:23, 41.75s/it]\u001b[A"
          ],
          "name": "stderr"
        },
        {
          "output_type": "stream",
          "text": [
            "Testing Accuracy  0.8775\n",
            "Epoch : 98\n",
            " Training Error 0.29106929228586587\n",
            "Training Accuracy 0.9237\n",
            "Testing Error 0.4336057767696489\n"
          ],
          "name": "stdout"
        },
        {
          "output_type": "stream",
          "text": [
            "\n",
            " 99%|█████████▉| 99/100 [1:09:08<00:41, 41.84s/it]\u001b[A"
          ],
          "name": "stderr"
        },
        {
          "output_type": "stream",
          "text": [
            "Testing Accuracy  0.8775\n",
            "Epoch : 99\n",
            " Training Error 0.29045576683673385\n",
            "Training Accuracy 0.9236\n",
            "Testing Error 0.4332459968850321\n"
          ],
          "name": "stdout"
        },
        {
          "output_type": "stream",
          "text": [
            "\n",
            "100%|██████████| 100/100 [1:09:50<00:00, 41.91s/it]"
          ],
          "name": "stderr"
        },
        {
          "output_type": "stream",
          "text": [
            "Testing Accuracy  0.8775\n",
            "Activation Function :  relu    and Optimizer :  adam\n"
          ],
          "name": "stdout"
        },
        {
          "output_type": "stream",
          "text": [
            "\n"
          ],
          "name": "stderr"
        },
        {
          "output_type": "display_data",
          "data": {
            "image/png": "[encoded data removed]",
            "text/plain": [
              "<Figure size 432x288 with 1 Axes>"
            ]
          },
          "metadata": {
            "tags": [],
            "needs_background": "light"
          }
        }
      ]
    },
    {
      "cell_type": "code",
      "metadata": {
        "id": "Ow4-Djncxjp0"
      },
      "source": [
        "def predict(X):\r\n",
        "    t_o2_list = []\r\n",
        "    for i in range(0, len(X)):\r\n",
        "        t_o1, t_o2 = mlp.drop_out_forward_test(X.iloc[i])\r\n",
        "        t_o2_list.append(t_o2)\r\n",
        "    \r\n",
        "    y_pred = []\r\n",
        "    for i in range(0, len(t_o2_list)):\r\n",
        "      y_pred.append(t_o2_list[i].index(max(t_o2_list[i])))\r\n",
        "    return y_pred"
      ],
      "execution_count": 13,
      "outputs": []
    },
    {
      "cell_type": "code",
      "metadata": {
        "id": "oCUaDV5vxEw_"
      },
      "source": [
        "y_pred= predict(X_val)"
      ],
      "execution_count": 14,
      "outputs": []
    },
    {
      "cell_type": "code",
      "metadata": {
        "id": "el3hkFxuqlaW",
        "colab": {
          "base_uri": "https://localhost:8080/",
          "height": 500
        },
        "outputId": "f8acffd0-fe2f-4e07-bf83-4f4251533e1b"
      },
      "source": [
        "labels=list(set(y_val))\r\n",
        "matrix =confusion_matrix(y_val,y_pred)  \r\n",
        "cm_df = pd.DataFrame(matrix,labels,labels)                      \r\n",
        "plt.figure(figsize=(10,8))  \r\n",
        "sns.heatmap(cm_df, annot=True)"
      ],
      "execution_count": 15,
      "outputs": [
        {
          "output_type": "execute_result",
          "data": {
            "text/plain": [
              "<matplotlib.axes._subplots.AxesSubplot at 0x7f42cca22250>"
            ]
          },
          "metadata": {
            "tags": []
          },
          "execution_count": 15
        },
        {
          "output_type": "display_data",
          "data": {
            "image/png": "[encoded data removed]",
            "text/plain": [
              "<Figure size 720x576 with 2 Axes>"
            ]
          },
          "metadata": {
            "tags": [],
            "needs_background": "light"
          }
        }
      ]
    },
    {
      "cell_type": "code",
      "metadata": {
        "id": "8EhPdp8hCHs5",
        "colab": {
          "base_uri": "https://localhost:8080/",
          "height": 638
        },
        "outputId": "e2908614-1f4d-4107-8b6f-d40fe0934638"
      },
      "source": [
        "ROC(y_val, y_pred, 10)\r\n",
        "accuracy_score(y_val, y_pred)"
      ],
      "execution_count": 16,
      "outputs": [
        {
          "output_type": "execute_result",
          "data": {
            "text/plain": [
              "0.8775"
            ]
          },
          "metadata": {
            "tags": []
          },
          "execution_count": 16
        },
        {
          "output_type": "display_data",
          "data": {
            "image/png": "[encoded data removed]",
            "text/plain": [
              "<Figure size 720x720 with 1 Axes>"
            ]
          },
          "metadata": {
            "tags": [],
            "needs_background": "light"
          }
        }
      ]
    },
    {
      "cell_type": "code",
      "metadata": {
        "id": "S1WKw-FLenT9"
      },
      "source": [
        "#Save Model\n",
        "mlp.saveModel(\"weights\",\"q2_part2_relu_adam_l2_weights\")"
      ],
      "execution_count": null,
      "outputs": []
    }
  ]
}
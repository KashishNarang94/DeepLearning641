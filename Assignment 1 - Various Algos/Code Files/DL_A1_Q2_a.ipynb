{
 "cells": [
  {
   "cell_type": "code",
   "execution_count": 389,
   "metadata": {},
   "outputs": [
    {
     "data": {
      "text/html": [
       "<div>\n",
       "<style scoped>\n",
       "    .dataframe tbody tr th:only-of-type {\n",
       "        vertical-align: middle;\n",
       "    }\n",
       "\n",
       "    .dataframe tbody tr th {\n",
       "        vertical-align: top;\n",
       "    }\n",
       "\n",
       "    .dataframe thead th {\n",
       "        text-align: right;\n",
       "    }\n",
       "</style>\n",
       "<table border=\"1\" class=\"dataframe\">\n",
       "  <thead>\n",
       "    <tr style=\"text-align: right;\">\n",
       "      <th></th>\n",
       "      <th>1</th>\n",
       "      <th>2</th>\n",
       "      <th>Label</th>\n",
       "    </tr>\n",
       "  </thead>\n",
       "  <tbody>\n",
       "    <tr>\n",
       "      <th>0</th>\n",
       "      <td>3.517091</td>\n",
       "      <td>4.477786</td>\n",
       "      <td>1</td>\n",
       "    </tr>\n",
       "    <tr>\n",
       "      <th>1</th>\n",
       "      <td>2.753965</td>\n",
       "      <td>2.992034</td>\n",
       "      <td>1</td>\n",
       "    </tr>\n",
       "    <tr>\n",
       "      <th>2</th>\n",
       "      <td>2.041712</td>\n",
       "      <td>0.777049</td>\n",
       "      <td>1</td>\n",
       "    </tr>\n",
       "    <tr>\n",
       "      <th>3</th>\n",
       "      <td>2.221013</td>\n",
       "      <td>5.811627</td>\n",
       "      <td>1</td>\n",
       "    </tr>\n",
       "    <tr>\n",
       "      <th>4</th>\n",
       "      <td>2.273687</td>\n",
       "      <td>1.282957</td>\n",
       "      <td>1</td>\n",
       "    </tr>\n",
       "    <tr>\n",
       "      <th>...</th>\n",
       "      <td>...</td>\n",
       "      <td>...</td>\n",
       "      <td>...</td>\n",
       "    </tr>\n",
       "    <tr>\n",
       "      <th>3995</th>\n",
       "      <td>0.026701</td>\n",
       "      <td>4.310341</td>\n",
       "      <td>-1</td>\n",
       "    </tr>\n",
       "    <tr>\n",
       "      <th>3996</th>\n",
       "      <td>1.756851</td>\n",
       "      <td>5.868937</td>\n",
       "      <td>-1</td>\n",
       "    </tr>\n",
       "    <tr>\n",
       "      <th>3997</th>\n",
       "      <td>1.329243</td>\n",
       "      <td>5.121655</td>\n",
       "      <td>-1</td>\n",
       "    </tr>\n",
       "    <tr>\n",
       "      <th>3998</th>\n",
       "      <td>1.043727</td>\n",
       "      <td>4.297979</td>\n",
       "      <td>-1</td>\n",
       "    </tr>\n",
       "    <tr>\n",
       "      <th>3999</th>\n",
       "      <td>1.628837</td>\n",
       "      <td>5.688310</td>\n",
       "      <td>-1</td>\n",
       "    </tr>\n",
       "  </tbody>\n",
       "</table>\n",
       "<p>4000 rows × 3 columns</p>\n",
       "</div>"
      ],
      "text/plain": [
       "             1         2  Label\n",
       "0     3.517091  4.477786      1\n",
       "1     2.753965  2.992034      1\n",
       "2     2.041712  0.777049      1\n",
       "3     2.221013  5.811627      1\n",
       "4     2.273687  1.282957      1\n",
       "...        ...       ...    ...\n",
       "3995  0.026701  4.310341     -1\n",
       "3996  1.756851  5.868937     -1\n",
       "3997  1.329243  5.121655     -1\n",
       "3998  1.043727  4.297979     -1\n",
       "3999  1.628837  5.688310     -1\n",
       "\n",
       "[4000 rows x 3 columns]"
      ]
     },
     "execution_count": 389,
     "metadata": {},
     "output_type": "execute_result"
    }
   ],
   "source": [
    "import pandas as pd\n",
    "data = pd.read_csv(\"q2a_dataset.csv\")\n",
    "data"
   ]
  },
  {
   "cell_type": "code",
   "execution_count": 390,
   "metadata": {},
   "outputs": [
    {
     "data": {
      "text/html": [
       "<div>\n",
       "<style scoped>\n",
       "    .dataframe tbody tr th:only-of-type {\n",
       "        vertical-align: middle;\n",
       "    }\n",
       "\n",
       "    .dataframe tbody tr th {\n",
       "        vertical-align: top;\n",
       "    }\n",
       "\n",
       "    .dataframe thead th {\n",
       "        text-align: right;\n",
       "    }\n",
       "</style>\n",
       "<table border=\"1\" class=\"dataframe\">\n",
       "  <thead>\n",
       "    <tr style=\"text-align: right;\">\n",
       "      <th></th>\n",
       "      <th>1</th>\n",
       "      <th>2</th>\n",
       "    </tr>\n",
       "  </thead>\n",
       "  <tbody>\n",
       "    <tr>\n",
       "      <th>0</th>\n",
       "      <td>3.517091</td>\n",
       "      <td>4.477786</td>\n",
       "    </tr>\n",
       "    <tr>\n",
       "      <th>1</th>\n",
       "      <td>2.753965</td>\n",
       "      <td>2.992034</td>\n",
       "    </tr>\n",
       "    <tr>\n",
       "      <th>2</th>\n",
       "      <td>2.041712</td>\n",
       "      <td>0.777049</td>\n",
       "    </tr>\n",
       "    <tr>\n",
       "      <th>3</th>\n",
       "      <td>2.221013</td>\n",
       "      <td>5.811627</td>\n",
       "    </tr>\n",
       "    <tr>\n",
       "      <th>4</th>\n",
       "      <td>2.273687</td>\n",
       "      <td>1.282957</td>\n",
       "    </tr>\n",
       "    <tr>\n",
       "      <th>...</th>\n",
       "      <td>...</td>\n",
       "      <td>...</td>\n",
       "    </tr>\n",
       "    <tr>\n",
       "      <th>3995</th>\n",
       "      <td>0.026701</td>\n",
       "      <td>4.310341</td>\n",
       "    </tr>\n",
       "    <tr>\n",
       "      <th>3996</th>\n",
       "      <td>1.756851</td>\n",
       "      <td>5.868937</td>\n",
       "    </tr>\n",
       "    <tr>\n",
       "      <th>3997</th>\n",
       "      <td>1.329243</td>\n",
       "      <td>5.121655</td>\n",
       "    </tr>\n",
       "    <tr>\n",
       "      <th>3998</th>\n",
       "      <td>1.043727</td>\n",
       "      <td>4.297979</td>\n",
       "    </tr>\n",
       "    <tr>\n",
       "      <th>3999</th>\n",
       "      <td>1.628837</td>\n",
       "      <td>5.688310</td>\n",
       "    </tr>\n",
       "  </tbody>\n",
       "</table>\n",
       "<p>4000 rows × 2 columns</p>\n",
       "</div>"
      ],
      "text/plain": [
       "             1         2\n",
       "0     3.517091  4.477786\n",
       "1     2.753965  2.992034\n",
       "2     2.041712  0.777049\n",
       "3     2.221013  5.811627\n",
       "4     2.273687  1.282957\n",
       "...        ...       ...\n",
       "3995  0.026701  4.310341\n",
       "3996  1.756851  5.868937\n",
       "3997  1.329243  5.121655\n",
       "3998  1.043727  4.297979\n",
       "3999  1.628837  5.688310\n",
       "\n",
       "[4000 rows x 2 columns]"
      ]
     },
     "execution_count": 390,
     "metadata": {},
     "output_type": "execute_result"
    }
   ],
   "source": [
    "label = list(data[\"Label\"])\n",
    "data = data.drop([\"Label\"], axis = 1)\n",
    "data"
   ]
  },
  {
   "cell_type": "code",
   "execution_count": 391,
   "metadata": {},
   "outputs": [],
   "source": [
    "w = []\n",
    "w.append([[0.5]*2]*8)\n",
    "w.append([[1]*4]*2)\n",
    "w.append([1, 1])\n",
    "b = []\n",
    "b.append([0.5]*8)\n",
    "b.append([-3]*2)\n",
    "b.append(1)"
   ]
  },
  {
   "cell_type": "code",
   "execution_count": 392,
   "metadata": {},
   "outputs": [
    {
     "name": "stdout",
     "output_type": "stream",
     "text": [
      "[[[0.5, 0.5], [0.5, 0.5], [0.5, 0.5], [0.5, 0.5], [0.5, 0.5], [0.5, 0.5], [0.5, 0.5], [0.5, 0.5]], [[1, 1, 1, 1], [1, 1, 1, 1]], [1, 1]]\n"
     ]
    }
   ],
   "source": [
    "print(w)"
   ]
  },
  {
   "cell_type": "code",
   "execution_count": 393,
   "metadata": {},
   "outputs": [
    {
     "name": "stdout",
     "output_type": "stream",
     "text": [
      "[[0.5, 0.5, 0.5, 0.5, 0.5, 0.5, 0.5, 0.5], [-3, -3], 1]\n"
     ]
    }
   ],
   "source": [
    "print(b)"
   ]
  },
  {
   "cell_type": "code",
   "execution_count": 394,
   "metadata": {},
   "outputs": [],
   "source": [
    "from random import uniform\n",
    "for i in range(0, len(w[0])):\n",
    "    for j in range(0,2):\n",
    "        num = uniform(-1,1)\n",
    "        num = round(num,2)\n",
    "        w[0][i][j] = num\n",
    "\n",
    "for i in range(0, len(b[0])):\n",
    "    num = uniform(-1,1)\n",
    "    num = round(num,2)\n",
    "    b[0][i] = num"
   ]
  },
  {
   "cell_type": "code",
   "execution_count": 395,
   "metadata": {},
   "outputs": [
    {
     "name": "stdout",
     "output_type": "stream",
     "text": [
      "[[[-0.12, 0.27], [-0.12, 0.27], [-0.12, 0.27], [-0.12, 0.27], [-0.12, 0.27], [-0.12, 0.27], [-0.12, 0.27], [-0.12, 0.27]], [[1, 1, 1, 1], [1, 1, 1, 1]], [1, 1]]\n"
     ]
    }
   ],
   "source": [
    "print(w)"
   ]
  },
  {
   "cell_type": "code",
   "execution_count": 396,
   "metadata": {},
   "outputs": [
    {
     "name": "stdout",
     "output_type": "stream",
     "text": [
      "[[-0.29, -0.38, 0.48, 0.37, -0.97, -0.48, -0.73, -0.11], [-3, -3], 1]\n"
     ]
    }
   ],
   "source": [
    "print(b)"
   ]
  },
  {
   "cell_type": "code",
   "execution_count": 397,
   "metadata": {},
   "outputs": [],
   "source": [
    "import numpy as np\n",
    "def compute_hidden_layer1(w, b, index):\n",
    "    z = [0]*8\n",
    "    o = [-1]*8\n",
    "    for i in range(0, 8):\n",
    "        we = np.array(w[0][i])\n",
    "        x = np.array(list(data.iloc[index]))\n",
    "        t = np.dot(we.T, x)\n",
    "        t = t + b[0][i]\n",
    "        z[i] = t\n",
    "        if(t>=0):\n",
    "            o[i] = 1\n",
    "        else:\n",
    "            o[i] = -1\n",
    "    return z, o"
   ]
  },
  {
   "cell_type": "code",
   "execution_count": 398,
   "metadata": {},
   "outputs": [],
   "source": [
    "def compute_hidden_layer2(w, b, o1):\n",
    "    z = [0]*2\n",
    "    o = [-1]*2\n",
    "    for i in range(0, 2):\n",
    "        we = np.array(w[1][i])\n",
    "        x = np.array(o1[(i*4):(i*4+4)])\n",
    "        t = np.dot(we.T, x)\n",
    "        t = t + b[1][i]\n",
    "        z[i] = t\n",
    "        if(t>=0):\n",
    "            o[i] = 1\n",
    "        else:\n",
    "            o[i] = -1\n",
    "    return z, o"
   ]
  },
  {
   "cell_type": "code",
   "execution_count": 399,
   "metadata": {},
   "outputs": [],
   "source": [
    "def compute_output(w, b, o):\n",
    "    we = np.array(w[2])\n",
    "    x = np.array(o)\n",
    "    t = np.dot(we.T, x)\n",
    "    t = t + b[2]\n",
    "    if(t>=0):\n",
    "        return [t,1]\n",
    "    else:\n",
    "        return [t,-1]"
   ]
  },
  {
   "cell_type": "code",
   "execution_count": 400,
   "metadata": {},
   "outputs": [
    {
     "name": "stdout",
     "output_type": "stream",
     "text": [
      "[1, 1, 1, 1, -1, 1, 1, 1]\n",
      "[1, -1]\n",
      "1\n"
     ]
    }
   ],
   "source": [
    "for i in range(0, 1):\n",
    "    z1, o1 = compute_hidden_layer1(w,b,i)\n",
    "    print(o1)\n",
    "    z2, o2 = compute_hidden_layer2(w,b,o1)\n",
    "    print(o2)\n",
    "    z3, o3 = compute_output(w,b,o2)\n",
    "    print(o3)"
   ]
  },
  {
   "cell_type": "code",
   "execution_count": 401,
   "metadata": {},
   "outputs": [],
   "source": [
    "# parameter = 0.01\n",
    "# for epoch in range(20):\n",
    "#     print(epoch)\n",
    "#     for i in range(0, len(data)):\n",
    "# #         print(\"==============\",i,\"=============\")\n",
    "#         z1, o1 = compute_hidden_layer1(w,b,i)\n",
    "#         z2, o2 = compute_hidden_layer2(w,b,o1)\n",
    "#         z3, o3 = compute_output(w,b,o2)\n",
    "#         temp = [0]*len(z1)\n",
    "#         for j in range(0, len(z1)):\n",
    "#             temp[j] = abs(z1[j])\n",
    "#         if(o3!=label[i] and label[i]==-1):\n",
    "# #             print(\"First\")\n",
    "#             for j in range(0, 8): # 4 is number of Neurons\n",
    "#                 if(z1[j]>0):\n",
    "#                     w[0][j] = list(np.add(w[0][j], (((parameter) * (-1-z1[j])) * np.array(list(data.iloc[i])))))\n",
    "#                     b[0][j] = b[0][j] + (parameter) * (-1-z1[j])\n",
    "#         elif(o3!=label[i] and label[i]==1):\n",
    "# #             print(\"Second\")\n",
    "#             minimum = min(temp)\n",
    "#             index = -1\n",
    "#             for j in range(0, len(temp)):\n",
    "#                 if(temp[j]==minimum):\n",
    "#                     index = j\n",
    "#                     break\n",
    "# #             print(z1)\n",
    "# #             print(index)\n",
    "#             w[0][index] = list(np.add(w[0][index], (((parameter) * (1-z1[index])) * np.array(list(data.iloc[i])))))\n",
    "#             b[0][index] = b[0][index] + (parameter) * (1-z1[index])\n",
    "#         else:\n",
    "#             continue\n",
    "#     pcount = 0\n",
    "#     ncount = 0\n",
    "#     for i in range(0, len(data)):\n",
    "#         _, t = compute_hidden_layer1(w,b,i)\n",
    "#         _, t1 = compute_hidden_layer2(w,b,t)\n",
    "#         _, out = compute_output(w,b,t1)\n",
    "#         if(out==1):\n",
    "#             pcount += 1\n",
    "#         else:\n",
    "#             ncount += 1\n",
    "#     print(pcount, ncount)\n",
    "# #         print(w)\n",
    "# #         print(b)"
   ]
  },
  {
   "cell_type": "code",
   "execution_count": 402,
   "metadata": {},
   "outputs": [
    {
     "name": "stdout",
     "output_type": "stream",
     "text": [
      "############# Epoch 0 accuracy score 0.49225 #############\n",
      "############# Epoch 1 accuracy score 0.4995 #############\n",
      "############# Epoch 2 accuracy score 0.489 #############\n",
      "############# Epoch 3 accuracy score 0.51875 #############\n",
      "############# Epoch 4 accuracy score 0.5385 #############\n",
      "############# Epoch 5 accuracy score 0.551 #############\n",
      "############# Epoch 6 accuracy score 0.541 #############\n",
      "############# Epoch 7 accuracy score 0.5635 #############\n",
      "############# Epoch 8 accuracy score 0.592 #############\n",
      "############# Epoch 9 accuracy score 0.56775 #############\n"
     ]
    }
   ],
   "source": [
    "from sklearn.metrics import accuracy_score\n",
    "from tqdm import tqdm\n",
    "parameter = 0.001\n",
    "for epoch in range(10):\n",
    "    for i in range(0,len(data)):\n",
    "#         print(\"=============\", i, \"================\")\n",
    "        z1, o1 = compute_hidden_layer1(w,b,i)\n",
    "        z2, o2 = compute_hidden_layer2(w,b,o1)\n",
    "        z3, o3 = compute_output(w,b,o2)\n",
    "        temp = [0]*len(z1)\n",
    "        for j in range(len(z1)):\n",
    "            temp[j] = z1[j]\n",
    "        for k in range(0, 8): # 8 is number of neurns to be updated\n",
    "            if(o3 != label[i]):\n",
    "                minimum = min(temp)\n",
    "                index = -1\n",
    "                for j in range(len(temp)):\n",
    "                    if(temp[j] == minimum):\n",
    "                        index = j\n",
    "                        temp[index] = 1000\n",
    "                        break\n",
    "                t_o1 = [0]*len(o1)\n",
    "                for j in range(len(o1)):\n",
    "                    if(j!=index):\n",
    "                        t_o1[j] = o1[j]\n",
    "                    else:\n",
    "                        if(o1[j]==1):\n",
    "                            t_o1[j] = -1\n",
    "                        else:\n",
    "                            t_o1[j] = 1\n",
    "\n",
    "                _, t_o2 = compute_hidden_layer2(w,b,t_o1)\n",
    "                _, t_o3 = compute_output(w,b,t_o2)\n",
    "                if(t_o3 == label[i]):\n",
    "                    # Perform Adaline on INDEXth neuron\n",
    "#                     print(\"Adaline\")\n",
    "                    w[0][index] = list(np.add(w[0][index], (((parameter) * (t_o1[index]-z1[index])) * np.array(list(data.iloc[i])))))\n",
    "                    b[0][index] = b[0][index] + (parameter) * (t_o1[index]-z1[index])\n",
    "                    break\n",
    "            else:\n",
    "                break\n",
    "    y_pred = []\n",
    "    for i in range(0, len(data)):\n",
    "        _, t = compute_hidden_layer1(w,b,i)\n",
    "        _, t1 = compute_hidden_layer2(w,b,t)\n",
    "        _, out = compute_output(w,b,t1)\n",
    "        y_pred.append(out)\n",
    "    print(\"############# Epoch\",epoch, \"accuracy score\",accuracy_score(y_pred, label),\"#############\")"
   ]
  },
  {
   "cell_type": "code",
   "execution_count": 406,
   "metadata": {},
   "outputs": [],
   "source": [
    "# data[\"label\"] = label\n",
    "# data"
   ]
  },
  {
   "cell_type": "code",
   "execution_count": 405,
   "metadata": {},
   "outputs": [],
   "source": [
    "# import seaborn as sns\n",
    "# import matplotlib.pyplot as plt\n",
    "# plot_x = np.array([0, 6])\n",
    "# plot_y = []\n",
    "# # getting corresponding y co-ordinates of the decision boundary\n",
    "# for i in range(0, 8):\n",
    "#     plot_y.append((-1/w[0][i][1]) * (w[0][i][0] * plot_x + b[0][i]))\n",
    "# # plot_y = (-1/w[0][1]) * (w[0][0] * plot_x + b[0])\n",
    "# # plot_z = (-1/w[1][1]) * (w[1][0] * plot_x + b[1])\n",
    "# sns.FacetGrid(data, hue=\"label\", size = 6).map(plt.scatter, \"1\", \"2\").add_legend()\n",
    "# # plt.plot(plot_x, plot_y)\n",
    "# # plt.plot(plot_x, plot_z)\n",
    "# for i in range(0, 8):\n",
    "#     plt.plot(plot_x, plot_y[i])\n",
    "# plt.show()"
   ]
  }
 ],
 "metadata": {
  "kernelspec": {
   "display_name": "Python 3",
   "language": "python",
   "name": "python3"
  },
  "language_info": {
   "codemirror_mode": {
    "name": "ipython",
    "version": 3
   },
   "file_extension": ".py",
   "mimetype": "text/x-python",
   "name": "python",
   "nbconvert_exporter": "python",
   "pygments_lexer": "ipython3",
   "version": "3.6.5"
  }
 },
 "nbformat": 4,
 "nbformat_minor": 2
}

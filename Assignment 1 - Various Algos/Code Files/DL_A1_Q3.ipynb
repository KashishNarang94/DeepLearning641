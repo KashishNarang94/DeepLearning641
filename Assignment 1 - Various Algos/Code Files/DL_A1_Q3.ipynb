{
 "cells": [
  {
   "cell_type": "code",
   "execution_count": 1,
   "metadata": {},
   "outputs": [],
   "source": [
    "import os\n",
    "import numpy as np\n",
    "import math\n",
    "import matplotlib.pyplot as plt"
   ]
  },
  {
   "cell_type": "markdown",
   "metadata": {},
   "source": [
    "<h2> Data </h2>"
   ]
  },
  {
   "cell_type": "code",
   "execution_count": 2,
   "metadata": {},
   "outputs": [],
   "source": [
    "#Data for training\n",
    "X_train = np.array([[0],[2],[4],[6],[8],[10]])\n",
    "y_train = np.array([0, 1, 0, 1, 0, 1])\n",
    "\n",
    "#Data for testing \n",
    "X_test = np.array([[-2],[12],[14],[16]])\n",
    "y_test = np.array([1, 0, 1, 0])"
   ]
  },
  {
   "cell_type": "markdown",
   "metadata": {},
   "source": [
    "<h2>Helper Plot</h2>"
   ]
  },
  {
   "cell_type": "code",
   "execution_count": 3,
   "metadata": {},
   "outputs": [],
   "source": [
    "def plot(snnn):\n",
    "    plt.plot(X_train[y_train==0], np.zeros_like(X_train[y_train==0]), 'x')\n",
    "    plt.plot(X_train[y_train==1], np.zeros_like(X_train[y_train==1]), 'o')\n",
    "    plt.plot(snnn.wei[1],0,'ro') \n",
    "    plt.title(\"Training Points\")\n",
    "    plt.show()"
   ]
  },
  {
   "cell_type": "markdown",
   "metadata": {},
   "source": [
    "<h2>Single Neuron Neural Network Class</h2>"
   ]
  },
  {
   "cell_type": "code",
   "execution_count": 10,
   "metadata": {},
   "outputs": [],
   "source": [
    "#Single layer neural network\n",
    "class SingleNeuronNN:\n",
    "    def __init__(self,wei,ep,lr,act):\n",
    "        self.wei = wei\n",
    "        self.ep = ep\n",
    "        self.lr = lr\n",
    "        self.act = act\n",
    "    \n",
    "    def activation(self, x_i):\n",
    "        if self.act == 'sigmoid':\n",
    "            return 1/(1 + np.exp(-x_i)) \n",
    "        \n",
    "        elif self.act == 'tanh':\n",
    "            return np.tanh(x_i)\n",
    "    \n",
    "        elif self.act == 'sign':\n",
    "            return np.sign(x_i)\n",
    "        \n",
    "        elif self.act == 'sine':\n",
    "            return math.sin(x_i) if x_i != 0 else 1\n",
    "    \n",
    "    def activationGradient(self,x_i):\n",
    "        if self.act == 'sigmoid':\n",
    "            sigmoid = self.activation(x_i)\n",
    "            return sigmoid*(1-sigmoid)\n",
    "        \n",
    "        elif self.act == 'tanh':\n",
    "            return 1 - self.activation(x_i)**2\n",
    "        \n",
    "        elif self.act == 'sign':\n",
    "            return 1\n",
    "        \n",
    "        elif self.act == 'sine':\n",
    "            if x_i!=0:\n",
    "                return ((math.cos(x_i)/x_i)-math.sin(x_i))/(x_i**2)\n",
    "            else : \n",
    "                return 0\n",
    "        \n",
    "    def forwardOrPredict(self, x_i):  \n",
    "        if self.act == 'sigmoid':\n",
    "            t = 0.5\n",
    "        if self.act == 'tanh':\n",
    "            t = 0\n",
    "        if self.act == 'sign':\n",
    "            t = 0\n",
    "        if self.act == 'sine':\n",
    "            t = 0\n",
    "        \n",
    "        op_val = self.activation(self.wei.T.dot(x_i))\n",
    "        \n",
    "        if op_val<t:\n",
    "            op = 0\n",
    "        if op_val>=t: \n",
    "            op = 1\n",
    "                \n",
    "        return op,op_val\n",
    " \n",
    "    #using early stopping if error for each training example is 0 for five consecutive epochs/weights not change\n",
    "    def fit(self, X_train, y_train):\n",
    "        \n",
    "        counter = 0\n",
    "        \n",
    "        #For defined no of epochs over all training examples\n",
    "        for dump in range(self.ep):\n",
    "            if counter>4 :\n",
    "                break\n",
    "        \n",
    "            err = []\n",
    "            print(\"--------epoch No-------- : \",dump)\n",
    "            print(\"weight : \",self.wei)\n",
    "            #For all training examples\n",
    "            for i in range(X_train.shape[0]):\n",
    "                \n",
    "                \n",
    "                #Sincle training example and output\n",
    "                #x_i = X_train[i]\n",
    "                x_i = np.insert(X_train[i], 0, 1)\n",
    "                y_i = y_train[i]\n",
    "                \n",
    "                #Forward pass\n",
    "                y_hat_i,y_hat_i_val = self.forwardOrPredict(x_i)\n",
    "                \n",
    "                #Calculate error with prediction and original label\n",
    "                #print(y_i,\"-----\",y_hat_i)\n",
    "                error = y_i - y_hat_i\n",
    "                err.append(error)\n",
    "                #print(\"Error : \",error)\n",
    "                \n",
    "                #Weight update\n",
    "                self.wei +=  self.lr * np.dot(x_i,(error* self.activationGradient(y_hat_i_val)))\n",
    "                #print(self.wei)\n",
    "                \n",
    "            #Plot boundary\n",
    "            #plot(self)\n",
    "                \n",
    "            if np.any(err)==False:\n",
    "                counter+=1\n",
    "            else:\n",
    "                counter =0"
   ]
  },
  {
   "cell_type": "markdown",
   "metadata": {},
   "source": [
    "<h2>Params</h2>"
   ]
  },
  {
   "cell_type": "code",
   "execution_count": 5,
   "metadata": {},
   "outputs": [],
   "source": [
    "#Initializing weights with 0 (for bias also)\n",
    "weights = np.zeros(2)\n",
    "\n",
    "#Other parameters\n",
    "learning_rate=1 \n",
    "max_epochs=10\n",
    "activation = 'tanh'"
   ]
  },
  {
   "cell_type": "markdown",
   "metadata": {},
   "source": [
    "<h2> Training With Delta Rule</h2>"
   ]
  },
  {
   "cell_type": "code",
   "execution_count": 6,
   "metadata": {},
   "outputs": [
    {
     "name": "stdout",
     "output_type": "stream",
     "text": [
      "--------epoch No-------- :  0\n",
      "weight :  [0. 0.]\n",
      "--------epoch No-------- :  1\n",
      "weight :  [0. 6.]\n",
      "--------epoch No-------- :  2\n",
      "weight :  [-2.  4.]\n",
      "--------epoch No-------- :  3\n",
      "weight :  [-2.  8.]\n",
      "--------epoch No-------- :  4\n",
      "weight :  [-3.  6.]\n",
      "--------epoch No-------- :  5\n",
      "weight :  [-4.  4.]\n",
      "--------epoch No-------- :  6\n",
      "weight :  [-4.  8.]\n",
      "--------epoch No-------- :  7\n",
      "weight :  [-5.  6.]\n",
      "--------epoch No-------- :  8\n",
      "weight :  [-6.  4.]\n",
      "--------epoch No-------- :  9\n",
      "weight :  [-6.  8.]\n"
     ]
    }
   ],
   "source": [
    "snnn = SingleNeuronNN(weights, max_epochs, learning_rate, activation)\n",
    "snnn.fit(X_train,y_train)"
   ]
  },
  {
   "cell_type": "code",
   "execution_count": 7,
   "metadata": {},
   "outputs": [
    {
     "name": "stdout",
     "output_type": "stream",
     "text": [
      "Final weights  [-7.  6.]\n"
     ]
    },
    {
     "data": {
      "image/png": "[encoded data removed]",
      "text/plain": [
       "<Figure size 432x288 with 1 Axes>"
      ]
     },
     "metadata": {
      "needs_background": "light"
     },
     "output_type": "display_data"
    }
   ],
   "source": [
    "print(\"Final weights \",snnn.wei)\n",
    "plot(snnn)"
   ]
  },
  {
   "cell_type": "markdown",
   "metadata": {},
   "source": [
    "<h2>Predictions</h2>"
   ]
  },
  {
   "cell_type": "code",
   "execution_count": 8,
   "metadata": {},
   "outputs": [
    {
     "name": "stdout",
     "output_type": "stream",
     "text": [
      "[[-2]\n",
      " [12]\n",
      " [14]\n",
      " [16]]\n",
      "Original [1 0 1 0]\n",
      "Predicted [0 1 1 1]\n"
     ]
    }
   ],
   "source": [
    "#Prediction on test set\n",
    "y_pred = []\n",
    "for i in range(X_test.shape[0]):\n",
    "    x_i = np.insert(X_test[i], 0, 1)\n",
    "    op,op_val = snnn.forwardOrPredict(x_i)\n",
    "    y_pred.append(op)\n",
    "    \n",
    "print(X_test)\n",
    "print(\"Original\" ,y_test)\n",
    "print(\"Predicted\",np.array(y_pred))"
   ]
  },
  {
   "cell_type": "code",
   "execution_count": 9,
   "metadata": {},
   "outputs": [
    {
     "name": "stdout",
     "output_type": "stream",
     "text": [
      "[[ 0]\n",
      " [ 2]\n",
      " [ 4]\n",
      " [ 6]\n",
      " [ 8]\n",
      " [10]]\n",
      "Original [0 1 0 1 0 1]\n",
      "Predicted [0 1 1 1 1 1]\n"
     ]
    }
   ],
   "source": [
    "#Prediction on train set\n",
    "y_pred_train = []\n",
    "for i in range(X_train.shape[0]):\n",
    "    x_i = np.insert(X_train[i], 0, 1)\n",
    "    op,op_val = snnn.forwardOrPredict(x_i)\n",
    "    y_pred_train.append(op)\n",
    "    \n",
    "print(X_train)\n",
    "print(\"Original\" ,y_train)\n",
    "print(\"Predicted\",np.array(y_pred_train))"
   ]
  },
  {
   "cell_type": "markdown",
   "metadata": {},
   "source": [
    "<h2>Model Save</h2>"
   ]
  },
  {
   "cell_type": "code",
   "execution_count": 65,
   "metadata": {},
   "outputs": [],
   "source": [
    "#Save weight and bias\n",
    "import pickle\n",
    "with open(\"q3_tanh_model\",'wb') as f:\n",
    "    pickle.dump(snnn.wei,f)"
   ]
  }
 ],
 "metadata": {
  "kernelspec": {
   "display_name": "Python 3",
   "language": "python",
   "name": "python3"
  },
  "language_info": {
   "codemirror_mode": {
    "name": "ipython",
    "version": 3
   },
   "file_extension": ".py",
   "mimetype": "text/x-python",
   "name": "python",
   "nbconvert_exporter": "python",
   "pygments_lexer": "ipython3",
   "version": "3.8.5"
  }
 },
 "nbformat": 4,
 "nbformat_minor": 4
}
